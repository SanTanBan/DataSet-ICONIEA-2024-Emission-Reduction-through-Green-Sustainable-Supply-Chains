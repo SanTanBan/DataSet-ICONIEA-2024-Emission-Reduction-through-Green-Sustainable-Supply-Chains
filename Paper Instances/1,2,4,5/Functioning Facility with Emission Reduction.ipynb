{
 "cells": [
  {
   "cell_type": "code",
   "execution_count": 1,
   "id": "c19d1192",
   "metadata": {},
   "outputs": [
    {
     "data": {
      "application/javascript": [
       "IPython.notebook.set_autosave_interval(11000)"
      ]
     },
     "metadata": {},
     "output_type": "display_data"
    },
    {
     "name": "stdout",
     "output_type": "stream",
     "text": [
      "Autosaving every 11 seconds\n"
     ]
    }
   ],
   "source": [
    "%autosave 11"
   ]
  },
  {
   "cell_type": "code",
   "execution_count": 2,
   "id": "dfb06287",
   "metadata": {},
   "outputs": [
    {
     "name": "stdout",
     "output_type": "stream",
     "text": [
      "Products\n",
      "Suppliers\n",
      "Distribution Centres\n",
      "Branches\n",
      "Customers\n",
      "Vehicle\n",
      "Commodity Flow Restrictions\n"
     ]
    }
   ],
   "source": [
    "import pandas as pd\n",
    "\n",
    "Facility_Details=pd.read_excel(\"Facility Details.xlsx\",sheet_name=None,index_col=0)\n",
    "\n",
    "for i in Facility_Details:\n",
    "    print(i)"
   ]
  },
  {
   "cell_type": "code",
   "execution_count": 3,
   "id": "65116be4",
   "metadata": {},
   "outputs": [],
   "source": [
    "K = Facility_Details[\"Products\"].index.tolist()"
   ]
  },
  {
   "cell_type": "code",
   "execution_count": 4,
   "id": "350316a8",
   "metadata": {},
   "outputs": [],
   "source": [
    "S = Facility_Details[\"Suppliers\"].index.tolist()\n",
    "\n",
    "S_Latitude = Facility_Details[\"Suppliers\"][\"Latitude\"]\n",
    "S_Longitude = Facility_Details[\"Suppliers\"][\"Longitude\"]"
   ]
  },
  {
   "cell_type": "code",
   "execution_count": 5,
   "id": "792b710f",
   "metadata": {},
   "outputs": [],
   "source": [
    "R = Facility_Details[\"Distribution Centres\"].index.tolist()\n",
    "\n",
    "R_Latitude = Facility_Details[\"Distribution Centres\"][\"Latitude\"]\n",
    "R_Longitude = Facility_Details[\"Distribution Centres\"][\"Longitude\"]\n",
    "\n",
    "R_F = Facility_Details[\"Distribution Centres\"][\"Fixed Emissions due to Facility Maintenance\"]\n",
    "R_V = Facility_Details[\"Distribution Centres\"][\"Variable Emissions due to Daily Operations\"]\n",
    "\n",
    "R_G = Facility_Details[\"Distribution Centres\"][\"Fixed Costs due to Facility Maintenance\"]\n",
    "R_W = Facility_Details[\"Distribution Centres\"][\"Variable Costs due to Daily Operations\"]"
   ]
  },
  {
   "cell_type": "code",
   "execution_count": 6,
   "id": "2cb33df4",
   "metadata": {},
   "outputs": [],
   "source": [
    "B = Facility_Details[\"Branches\"].index.tolist()\n",
    "\n",
    "B_Latitude = Facility_Details[\"Branches\"][\"Latitude\"]\n",
    "B_Longitude = Facility_Details[\"Branches\"][\"Longitude\"]\n",
    "\n",
    "B_F = Facility_Details[\"Branches\"][\"Fixed Emissions due to Facility Maintenance\"]\n",
    "B_V = Facility_Details[\"Branches\"][\"Variable Emissions due to Daily Operations\"]\n",
    "\n",
    "B_G = Facility_Details[\"Branches\"][\"Fixed Costs due to Facility Maintenance\"]\n",
    "B_W = Facility_Details[\"Branches\"][\"Variable Costs due to Daily Operations\"]"
   ]
  },
  {
   "cell_type": "code",
   "execution_count": 7,
   "id": "050ae4e7",
   "metadata": {},
   "outputs": [],
   "source": [
    "V_Emission = pd.concat([B_V, R_V], ignore_index=False, sort=False)\n",
    "F_Emission = pd.concat([B_F, R_F], ignore_index=False, sort=False)\n",
    "\n",
    "W_Cost = pd.concat([B_W, R_W], ignore_index=False, sort=False)\n",
    "G_Cost = pd.concat([B_G, R_G], ignore_index=False, sort=False)"
   ]
  },
  {
   "cell_type": "code",
   "execution_count": 8,
   "id": "6becc891",
   "metadata": {},
   "outputs": [],
   "source": [
    "C = Facility_Details[\"Customers\"].index.tolist()\n",
    "\n",
    "C_Latitude = Facility_Details[\"Customers\"][\"Latitude\"]\n",
    "C_Longitude = Facility_Details[\"Customers\"][\"Longitude\"]"
   ]
  },
  {
   "cell_type": "code",
   "execution_count": 9,
   "id": "8cc08e9a",
   "metadata": {},
   "outputs": [],
   "source": [
    "All_Longitudes = {**S_Longitude,**R_Longitude,**B_Longitude,**C_Longitude}\n",
    "All_Latitudes = {**S_Latitude,**R_Latitude,**B_Latitude,**C_Latitude}\n",
    "\n",
    "T={}\n",
    "\n",
    "for source in All_Longitudes:\n",
    "    for sink in All_Latitudes:\n",
    "        lat_diff = abs(All_Latitudes[source]-All_Latitudes[sink])\n",
    "        lon_diff = abs(All_Longitudes[source]-All_Longitudes[sink])\n",
    "        p=2\n",
    "        T[source,sink] = ( (lat_diff**p + lon_diff**p)**(1/p) )/1000 #Scaling down distance from meter to kilometers\n",
    "        \n",
    "#print(T)\n",
    "#T[\"C1\",\"C5\"]"
   ]
  },
  {
   "cell_type": "code",
   "execution_count": 10,
   "id": "09497397",
   "metadata": {},
   "outputs": [],
   "source": [
    "E = []\n",
    "\n",
    "for i in S:\n",
    "    for j in R+B:\n",
    "        E.append((i,j))\n",
    "        \n",
    "for i in R:\n",
    "    for j in B:\n",
    "        E.append((i,j))\n",
    "        \n",
    "for i in R+B:\n",
    "    for j in C:\n",
    "        E.append((i,j))"
   ]
  },
  {
   "cell_type": "code",
   "execution_count": 11,
   "id": "a7153ad3",
   "metadata": {},
   "outputs": [],
   "source": [
    "V = Facility_Details[\"Vehicle\"].index.tolist()\n",
    "\n",
    "Q = Facility_Details[\"Vehicle\"][\"Capacity (Q)\"][V[0]]\n",
    "\n",
    "F_0 = Facility_Details[\"Vehicle\"][\"Fixed Emission (F_0)\"][V[0]]\n",
    "V_0 = Facility_Details[\"Vehicle\"][\"Variable Emission (V_0)\"][V[0]]\n",
    "\n",
    "G_0 = Facility_Details[\"Vehicle\"][\"Fixed Cost (G_0)\"][V[0]]\n",
    "W_0 = Facility_Details[\"Vehicle\"][\"Variable Cost (W_0)\"][V[0]]"
   ]
  },
  {
   "cell_type": "code",
   "execution_count": 12,
   "id": "71d7d790",
   "metadata": {},
   "outputs": [],
   "source": [
    "U_H_D = Facility_Details[\"Commodity Flow Restrictions\"]"
   ]
  },
  {
   "cell_type": "code",
   "execution_count": 13,
   "id": "77ec9c19",
   "metadata": {},
   "outputs": [],
   "source": [
    "M = 1E7"
   ]
  },
  {
   "cell_type": "markdown",
   "id": "b4e1ec4c",
   "metadata": {},
   "source": [
    "# Data Reading and Set Creation is Complete"
   ]
  },
  {
   "cell_type": "code",
   "execution_count": 14,
   "id": "352b836a",
   "metadata": {},
   "outputs": [
    {
     "name": "stdout",
     "output_type": "stream",
     "text": [
      "Set parameter Username\n",
      "Academic license - for non-commercial use only - expires 2024-12-10\n"
     ]
    }
   ],
   "source": [
    "#pip install gurobipy\n",
    "from gurobipy import *\n",
    "\n",
    "# Set the problem\n",
    "mdl=Model(\"Functioning Facility with Emission Reduction\")"
   ]
  },
  {
   "cell_type": "markdown",
   "id": "8827c33a",
   "metadata": {},
   "source": [
    "# Variables"
   ]
  },
  {
   "cell_type": "code",
   "execution_count": 15,
   "id": "e7a100c4",
   "metadata": {},
   "outputs": [],
   "source": [
    "x = {}\n",
    "y = {}\n",
    "z = {}"
   ]
  },
  {
   "cell_type": "code",
   "execution_count": 16,
   "id": "dbc4b04f",
   "metadata": {},
   "outputs": [],
   "source": [
    "for i,j in E:\n",
    "    \n",
    "    x[i,j] = mdl.addVar(vtype=GRB.BINARY, name=\"x%s,%s\" % (i,j)) # Equation 10\n",
    "    \n",
    "    for k in K:\n",
    "        y[i,j,k] = mdl.addVar(name=\"y%s,%s,%s\" % (i,j,k)) # Equation 11\n",
    "            \n",
    "for i in R+B:\n",
    "    z[i] = mdl.addVar(vtype=GRB.BINARY, name=\"z%s\" % (i)) # Equation 12"
   ]
  },
  {
   "cell_type": "code",
   "execution_count": 17,
   "id": "4f5a3623",
   "metadata": {},
   "outputs": [],
   "source": [
    "COST = mdl.addVar(name=\"COST\")\n",
    "EMISSIONS = mdl.addVar(name=\"EMISSIONS\")"
   ]
  },
  {
   "cell_type": "markdown",
   "id": "724da4f0",
   "metadata": {},
   "source": [
    "# Constraints"
   ]
  },
  {
   "cell_type": "code",
   "execution_count": 18,
   "id": "386c3894",
   "metadata": {},
   "outputs": [
    {
     "data": {
      "text/plain": [
       "<gurobi.Constr *Awaiting Model Update*>"
      ]
     },
     "execution_count": 18,
     "metadata": {},
     "output_type": "execute_result"
    }
   ],
   "source": [
    "mdl.addConstr( quicksum( T[i,j]*( 2*x[i,j]*G_0 + W_0*quicksum(y[i,j,k] for k in K) ) for i,j in E )\n",
    "              + quicksum( z[i]*G_Cost[i] for i in R+B )\n",
    "              + quicksum( W_Cost[i]*( quicksum(y[j,i,k] for k in K for j in S) ) for i in R )\n",
    "              + quicksum( W_Cost[i]*( quicksum(y[i,j,k] for k in K for j in C) ) for i in B )\n",
    "              == COST)"
   ]
  },
  {
   "cell_type": "code",
   "execution_count": 19,
   "id": "0d6289a1",
   "metadata": {},
   "outputs": [
    {
     "data": {
      "text/plain": [
       "<gurobi.Constr *Awaiting Model Update*>"
      ]
     },
     "execution_count": 19,
     "metadata": {},
     "output_type": "execute_result"
    }
   ],
   "source": [
    "mdl.addConstr( quicksum( T[i,j]*( 2*x[i,j]*F_0 + V_0*quicksum(y[i,j,k] for k in K) ) for i,j in E )\n",
    "              + quicksum( z[i]*F_Emission[i] for i in R+B )\n",
    "              + quicksum( V_Emission[i]*( quicksum(y[j,i,k] for k in K for j in S) ) for i in R )\n",
    "              + quicksum( V_Emission[i]*( quicksum(y[i,j,k] for k in K for j in C) ) for i in B )\n",
    "              == EMISSIONS)"
   ]
  },
  {
   "cell_type": "code",
   "execution_count": 20,
   "id": "b1da1c39",
   "metadata": {},
   "outputs": [],
   "source": [
    "# Equation 2\n",
    "for k in K:\n",
    "    for i in S:\n",
    "        mdl.addConstr( quicksum( y[i,j,k] for j in R+B ) <= U_H_D[k][i] )"
   ]
  },
  {
   "cell_type": "code",
   "execution_count": 21,
   "id": "3dafb82f",
   "metadata": {},
   "outputs": [],
   "source": [
    "# Equation 3\n",
    "for k in K:\n",
    "    for i in R:\n",
    "        mdl.addConstr( quicksum( y[i,j,k] for j in C+B ) <= quicksum( y[j,i,k] for j in S ) )"
   ]
  },
  {
   "cell_type": "code",
   "execution_count": 22,
   "id": "653443e4",
   "metadata": {},
   "outputs": [],
   "source": [
    "# Equation 4\n",
    "for k in K:\n",
    "    for i in B:\n",
    "        mdl.addConstr( quicksum( y[i,j,k] for j in C ) + quicksum( y[j,i,k] for j in S )<= quicksum( y[j,i,k] for j in R ) )"
   ]
  },
  {
   "cell_type": "code",
   "execution_count": 23,
   "id": "9bcd2e39",
   "metadata": {},
   "outputs": [],
   "source": [
    "# Equation 5\n",
    "for k in K:\n",
    "    for j in R:\n",
    "        mdl.addConstr( quicksum( y[i,j,k] for i in S ) <= U_H_D[k][j] )"
   ]
  },
  {
   "cell_type": "code",
   "execution_count": 24,
   "id": "df9d2cbf",
   "metadata": {},
   "outputs": [],
   "source": [
    "# Equation 6\n",
    "for k in K:\n",
    "    for j in B:\n",
    "        mdl.addConstr( quicksum( y[i,j,k] for i in S+R ) <= U_H_D[k][j] )"
   ]
  },
  {
   "cell_type": "code",
   "execution_count": 25,
   "id": "9baafa84",
   "metadata": {},
   "outputs": [],
   "source": [
    "# Equation 7\n",
    "for k in K:\n",
    "    for j in C:\n",
    "        mdl.addConstr( quicksum( y[i,j,k] for i in R+B ) == U_H_D[k][j] )"
   ]
  },
  {
   "cell_type": "code",
   "execution_count": 26,
   "id": "b2161114",
   "metadata": {},
   "outputs": [],
   "source": [
    "# Equation 8\n",
    "for i,j in E:\n",
    "    mdl.addConstr( quicksum( y[i,j,k] for k in K ) <= Q*x[i,j] )"
   ]
  },
  {
   "cell_type": "code",
   "execution_count": 27,
   "id": "5fcd1cf9",
   "metadata": {},
   "outputs": [],
   "source": [
    "# Equation 9\n",
    "for i in R+B:\n",
    "    mdl.addConstr( quicksum(x[j,i] for j in S)\n",
    "                  +quicksum(x[j,i] for j in R if (not(i in R)))\n",
    "                  +quicksum(x[i,j] for j in B if (not(i in B)))\n",
    "                  +quicksum(x[i,j] for j in C)\n",
    "                  <= M*z[i] )"
   ]
  },
  {
   "cell_type": "markdown",
   "id": "313b20b7",
   "metadata": {},
   "source": [
    "# EMISSION Objective Function"
   ]
  },
  {
   "cell_type": "code",
   "execution_count": 28,
   "id": "03ebd511",
   "metadata": {},
   "outputs": [
    {
     "name": "stdout",
     "output_type": "stream",
     "text": [
      "<gurobi.Model MIP instance Functioning Facility with Emission Reduction: 1277 constrs, 4022 vars, Parameter changes: Username=(user-defined)>\n",
      "Gurobi Optimizer version 10.0.3 build v10.0.3rc0 (win64)\n",
      "\n",
      "CPU model: Intel(R) Core(TM) i3-10110U CPU @ 2.10GHz, instruction set [SSE2|AVX|AVX2]\n",
      "Thread count: 2 physical cores, 4 logical processors, using up to 4 threads\n",
      "\n",
      "Optimize a model with 1277 rows, 4022 columns and 20027 nonzeros\n",
      "Model fingerprint: 0xf828f736\n",
      "Variable types: 2999 continuous, 1023 integer (1023 binary)\n",
      "Coefficient statistics:\n",
      "  Matrix range     [2e-03, 1e+07]\n",
      "  Objective range  [1e+00, 1e+00]\n",
      "  Bounds range     [1e+00, 1e+00]\n",
      "  RHS range        [1e+00, 1e+03]\n",
      "Presolve removed 157 rows and 1404 columns\n",
      "Presolve time: 0.02s\n",
      "Presolved: 1120 rows, 2618 columns, 7453 nonzeros\n",
      "Variable types: 1693 continuous, 925 integer (925 binary)\n",
      "Found heuristic solution: objective 1081.8689106\n",
      "\n",
      "Root relaxation: objective 9.118581e+02, 374 iterations, 0.01 seconds (0.00 work units)\n",
      "\n",
      "    Nodes    |    Current Node    |     Objective Bounds      |     Work\n",
      " Expl Unexpl |  Obj  Depth IntInf | Incumbent    BestBd   Gap | It/Node Time\n",
      "\n",
      "     0     0  911.85813    0   35 1081.86891  911.85813  15.7%     -    0s\n",
      "H    0     0                    1075.6303001  911.85813  15.2%     -    0s\n",
      "H    0     0                    1019.9026049  911.85813  10.6%     -    0s\n",
      "     0     0  954.51351    0   34 1019.90260  954.51351  6.41%     -    0s\n",
      "H    0     0                    1010.0317419  954.51351  5.50%     -    0s\n",
      "     0     0  956.80674    0   31 1010.03174  956.80674  5.27%     -    0s\n",
      "     0     0  966.66414    0   32 1010.03174  966.66414  4.29%     -    0s\n",
      "H    0     0                    1009.6905790  966.66414  4.26%     -    0s\n",
      "     0     0  968.67653    0   21 1009.69058  968.67653  4.06%     -    0s\n",
      "     0     0  968.78084    0   26 1009.69058  968.78084  4.05%     -    0s\n",
      "     0     0  968.81274    0   24 1009.69058  968.81274  4.05%     -    0s\n",
      "     0     0  973.79744    0   20 1009.69058  973.79744  3.55%     -    0s\n",
      "     0     0  976.98805    0   30 1009.69058  976.98805  3.24%     -    0s\n",
      "     0     0  977.60516    0   35 1009.69058  977.60516  3.18%     -    0s\n",
      "     0     0  978.18975    0   39 1009.69058  978.18975  3.12%     -    0s\n",
      "     0     0  978.25159    0   40 1009.69058  978.25159  3.11%     -    0s\n",
      "     0     0  981.84702    0   24 1009.69058  981.84702  2.76%     -    0s\n",
      "H    0     0                    1008.7987346  981.84702  2.67%     -    0s\n",
      "     0     0  982.41027    0   22 1008.79873  982.41027  2.62%     -    0s\n",
      "     0     0  982.41312    0   22 1008.79873  982.41312  2.62%     -    0s\n",
      "     0     0  982.46629    0   23 1008.79873  982.46629  2.61%     -    0s\n",
      "     0     0  982.49526    0   26 1008.79873  982.49526  2.61%     -    0s\n",
      "     0     0  982.75957    0   34 1008.79873  982.75957  2.58%     -    0s\n",
      "H    0     0                    1008.5954175  982.75957  2.56%     -    0s\n",
      "     0     0  982.78821    0   33 1008.59542  982.78821  2.56%     -    0s\n",
      "     0     0  983.04552    0   32 1008.59542  983.04552  2.53%     -    0s\n",
      "     0     0  983.04552    0   32 1008.59542  983.04552  2.53%     -    0s\n",
      "     0     0  985.18722    0   20 1008.59542  985.18722  2.32%     -    0s\n",
      "     0     0  985.18722    0   24 1008.59542  985.18722  2.32%     -    0s\n",
      "     0     0  985.18722    0   23 1008.59542  985.18722  2.32%     -    0s\n",
      "     0     0  985.18722    0   29 1008.59542  985.18722  2.32%     -    0s\n",
      "     0     0  985.18722    0   30 1008.59542  985.18722  2.32%     -    1s\n",
      "     0     0  985.18722    0   31 1008.59542  985.18722  2.32%     -    1s\n",
      "     0     0  985.18722    0   32 1008.59542  985.18722  2.32%     -    1s\n",
      "     0     0  988.72914    0   29 1008.59542  988.72914  1.97%     -    1s\n",
      "     0     0  989.12269    0   32 1008.59542  989.12269  1.93%     -    1s\n",
      "     0     0  989.13938    0   32 1008.59542  989.13938  1.93%     -    1s\n",
      "     0     0  989.13973    0   29 1008.59542  989.13973  1.93%     -    1s\n",
      "     0     0  990.16186    0   38 1008.59542  990.16186  1.83%     -    1s\n",
      "     0     0  990.50737    0   38 1008.59542  990.50737  1.79%     -    1s\n",
      "     0     0  990.55665    0   36 1008.59542  990.55665  1.79%     -    1s\n",
      "     0     0  991.22193    0   33 1008.59542  991.22193  1.72%     -    1s\n",
      "     0     0  991.27329    0   34 1008.59542  991.27329  1.72%     -    1s\n",
      "     0     0  991.27635    0   35 1008.59542  991.27635  1.72%     -    1s\n",
      "     0     0  991.88765    0   34 1008.59542  991.88765  1.66%     -    1s\n",
      "     0     0  991.88765    0   20 1008.59542  991.88765  1.66%     -    1s\n",
      "     0     0  991.88765    0   35 1008.59542  991.88765  1.66%     -    1s\n",
      "H    0     0                    1007.6078197  991.88765  1.56%     -    1s\n",
      "     0     0  991.88765    0   27 1007.60782  991.88765  1.56%     -    1s\n",
      "     0     0  991.88765    0   39 1007.60782  991.88765  1.56%     -    1s\n",
      "     0     0  991.94472    0   39 1007.60782  991.94472  1.55%     -    1s\n",
      "     0     0  991.95233    0   40 1007.60782  991.95233  1.55%     -    1s\n",
      "     0     0  992.41200    0   47 1007.60782  992.41200  1.51%     -    1s\n",
      "     0     0  992.43098    0   42 1007.60782  992.43098  1.51%     -    1s\n",
      "     0     0  992.43620    0   48 1007.60782  992.43620  1.51%     -    1s\n",
      "     0     0  993.02840    0   52 1007.60782  993.02840  1.45%     -    1s\n",
      "     0     0  993.34918    0   48 1007.60782  993.34918  1.42%     -    1s\n",
      "     0     0  993.36721    0   49 1007.60782  993.36721  1.41%     -    1s\n",
      "     0     0  993.36887    0   49 1007.60782  993.36887  1.41%     -    1s\n",
      "     0     0  993.66130    0   48 1007.60782  993.66130  1.38%     -    1s\n",
      "     0     0  993.72324    0   53 1007.60782  993.72324  1.38%     -    1s\n",
      "     0     0  993.74772    0   55 1007.60782  993.74772  1.38%     -    1s\n",
      "     0     0  993.74987    0   57 1007.60782  993.74987  1.38%     -    1s\n",
      "     0     0  993.77127    0   55 1007.60782  993.77127  1.37%     -    1s\n",
      "     0     0  993.77479    0   55 1007.60782  993.77479  1.37%     -    1s\n",
      "     0     0  993.79642    0   64 1007.60782  993.79642  1.37%     -    1s\n",
      "     0     0  993.79642    0   64 1007.60782  993.79642  1.37%     -    1s\n",
      "     0     0  993.79642    0   19 1007.60782  993.79642  1.37%     -    2s\n",
      "     0     0  993.79642    0   39 1007.60782  993.79642  1.37%     -    2s\n",
      "H    0     0                    1007.0085392  993.79642  1.31%     -    2s\n",
      "     0     0  993.79642    0   31 1007.00854  993.79642  1.31%     -    2s\n",
      "     0     0  993.79642    0   34 1007.00854  993.79642  1.31%     -    2s\n",
      "     0     0  993.79642    0   49 1007.00854  993.79642  1.31%     -    2s\n",
      "     0     0  993.79642    0   36 1007.00854  993.79642  1.31%     -    2s\n",
      "     0     0  993.79642    0   56 1007.00854  993.79642  1.31%     -    2s\n",
      "     0     0  993.79642    0   63 1007.00854  993.79642  1.31%     -    2s\n",
      "     0     0  993.79642    0   64 1007.00854  993.79642  1.31%     -    2s\n",
      "     0     0  994.04671    0   60 1007.00854  994.04671  1.29%     -    2s\n",
      "     0     0  994.05424    0   61 1007.00854  994.05424  1.29%     -    2s\n",
      "     0     0  994.20952    0   55 1007.00854  994.20952  1.27%     -    2s\n",
      "     0     0  994.20952    0   55 1007.00854  994.20952  1.27%     -    2s\n",
      "     0     0  994.20952    0   19 1007.00854  994.20952  1.27%     -    2s\n",
      "     0     0  994.20952    0   44 1007.00854  994.20952  1.27%     -    2s\n",
      "     0     0  994.20952    0   30 1007.00854  994.20952  1.27%     -    2s\n",
      "     0     0  994.20952    0   40 1007.00854  994.20952  1.27%     -    2s\n",
      "     0     0  994.20952    0   36 1007.00854  994.20952  1.27%     -    2s\n",
      "     0     0  994.20952    0   47 1007.00854  994.20952  1.27%     -    2s\n",
      "     0     0  994.21044    0   55 1007.00854  994.21044  1.27%     -    2s\n",
      "     0     0  994.21306    0   54 1007.00854  994.21306  1.27%     -    2s\n",
      "     0     0  994.30875    0   57 1007.00854  994.30875  1.26%     -    2s\n",
      "     0     0  994.31586    0   46 1007.00854  994.31586  1.26%     -    2s\n",
      "     0     0  994.50695    0   61 1007.00854  994.50695  1.24%     -    2s\n",
      "     0     0  994.50695    0   61 1007.00854  994.50695  1.24%     -    2s\n",
      "H    0     0                    1004.6187118  994.50695  1.01%     -    2s\n",
      "     0     0  994.64997    0   19 1004.61871  994.64997  0.99%     -    2s\n"
     ]
    },
    {
     "name": "stdout",
     "output_type": "stream",
     "text": [
      "     0     0  994.64997    0   40 1004.61871  994.64997  0.99%     -    2s\n",
      "     0     0  994.64997    0   33 1004.61871  994.64997  0.99%     -    2s\n",
      "     0     0  994.64997    0   36 1004.61871  994.64997  0.99%     -    2s\n",
      "     0     0  994.64997    0   37 1004.61871  994.64997  0.99%     -    2s\n",
      "     0     0  994.64997    0   53 1004.61871  994.64997  0.99%     -    2s\n",
      "     0     0  994.64997    0   61 1004.61871  994.64997  0.99%     -    2s\n",
      "     0     0  994.64997    0   62 1004.61871  994.64997  0.99%     -    2s\n",
      "     0     0  994.64997    0   58 1004.61871  994.64997  0.99%     -    2s\n",
      "     0     0  994.64997    0   58 1004.61871  994.64997  0.99%     -    2s\n",
      "     0     0  994.80134    0   53 1004.61871  994.80134  0.98%     -    3s\n",
      "     0     0  994.80134    0   53 1004.61871  994.80134  0.98%     -    3s\n",
      "H    0     0                    1004.2930297  994.80134  0.95%     -    3s\n",
      "     0     2  994.80134    0   53 1004.29303  994.80134  0.95%     -    3s\n",
      "H   30    26                    1002.6261376  994.96437  0.76%  33.6    3s\n",
      "\n",
      "Cutting planes:\n",
      "  Lift-and-project: 10\n",
      "  Cover: 2\n",
      "  Implied bound: 4\n",
      "  MIR: 42\n",
      "  Flow cover: 29\n",
      "  Inf proof: 1\n",
      "  Network: 1\n",
      "  RLT: 6\n",
      "\n",
      "Explored 332 nodes (16558 simplex iterations) in 3.60 seconds (1.95 work units)\n",
      "Thread count was 4 (of 4 available processors)\n",
      "\n",
      "Solution count 10: 1002.63 1004.29 1004.62 ... 1075.63\n",
      "\n",
      "Optimal solution found (tolerance 1.00e-04)\n",
      "Best objective 1.002626137610e+03, best bound 1.002626137610e+03, gap 0.0000%\n"
     ]
    }
   ],
   "source": [
    "# Equation 1\n",
    "mdl.setObjective( EMISSIONS ,GRB.MINIMIZE)\n",
    "\n",
    "mdl.update()\n",
    "print(mdl)\n",
    "\n",
    "mdl.optimize()\n",
    "\n",
    "import winsound\n",
    "winsound.Beep(555, 888) # where 555 is the frequency in Hertz and 888 is the duration in miliseconds"
   ]
  },
  {
   "cell_type": "code",
   "execution_count": 29,
   "id": "0adca6d1",
   "metadata": {},
   "outputs": [
    {
     "name": "stdout",
     "output_type": "stream",
     "text": [
      "Equation 1: Emission Objective\n",
      "Emissions =  1002.6261376098095\n",
      "Open Distribution Centres:  3.0\n",
      "Open Branches:  1.0\n",
      "No. of vehicles used:  42.0\n"
     ]
    }
   ],
   "source": [
    "print(\"Equation 1: Emission Objective\")\n",
    "#print(\"Cost = \", COST.x)\n",
    "print(\"Emissions = \", EMISSIONS.x)\n",
    "#print(\"Objective = \", mdl.getObjective().getValue())\n",
    "\n",
    "\n",
    "VariableCOST_when_objectiveEMISSIONS = COST.x\n",
    "VariableEMISSIONS_when_objectiveEMISSIONS = EMISSIONS.x\n",
    "\n",
    "\n",
    "Open_DistributionCentres=0\n",
    "for i in R:\n",
    "    Open_DistributionCentres += z[i].x\n",
    "print(\"Open Distribution Centres: \",Open_DistributionCentres)\n",
    "\n",
    "Open_Branches=0\n",
    "for i in B:\n",
    "    Open_Branches += z[i].x\n",
    "print(\"Open Branches: \",Open_Branches)\n",
    "\n",
    "Veh_usage=0\n",
    "for i,j in E:\n",
    "    Veh_usage += x[i,j].x\n",
    "print(\"No. of vehicles used: \",Veh_usage)"
   ]
  },
  {
   "cell_type": "markdown",
   "id": "b30bc4c4",
   "metadata": {},
   "source": [
    "# COST Objective Function"
   ]
  },
  {
   "cell_type": "code",
   "execution_count": 30,
   "id": "6509f785",
   "metadata": {},
   "outputs": [
    {
     "name": "stdout",
     "output_type": "stream",
     "text": [
      "<gurobi.Model MIP instance Functioning Facility with Emission Reduction: 1277 constrs, 4022 vars, Parameter changes: Username=(user-defined)>\n",
      "Gurobi Optimizer version 10.0.3 build v10.0.3rc0 (win64)\n",
      "\n",
      "CPU model: Intel(R) Core(TM) i3-10110U CPU @ 2.10GHz, instruction set [SSE2|AVX|AVX2]\n",
      "Thread count: 2 physical cores, 4 logical processors, using up to 4 threads\n",
      "\n",
      "Optimize a model with 1277 rows, 4022 columns and 20027 nonzeros\n",
      "Model fingerprint: 0x9daa3744\n",
      "Variable types: 2999 continuous, 1023 integer (1023 binary)\n",
      "Coefficient statistics:\n",
      "  Matrix range     [2e-03, 1e+07]\n",
      "  Objective range  [1e+00, 1e+00]\n",
      "  Bounds range     [1e+00, 1e+00]\n",
      "  RHS range        [1e+00, 1e+03]\n",
      "\n",
      "MIP start from previous solve produced solution with objective 1668.61 (0.02s)\n",
      "MIP start from previous solve produced solution with objective 1668.61 (0.02s)\n",
      "Loaded MIP start from previous solve with objective 1668.61\n",
      "\n",
      "Presolve removed 157 rows and 1404 columns\n",
      "Presolve time: 0.01s\n",
      "Presolved: 1120 rows, 2618 columns, 7453 nonzeros\n",
      "Variable types: 1693 continuous, 925 integer (925 binary)\n",
      "\n",
      "Root relaxation: objective 1.115253e+03, 785 iterations, 0.02 seconds (0.01 work units)\n",
      "\n",
      "    Nodes    |    Current Node    |     Objective Bounds      |     Work\n",
      " Expl Unexpl |  Obj  Depth IntInf | Incumbent    BestBd   Gap | It/Node Time\n",
      "\n",
      "     0     0 1115.25323    0   46 1668.61360 1115.25323  33.2%     -    0s\n",
      "H    0     0                    1339.5377808 1115.25323  16.7%     -    0s\n",
      "H    0     0                    1295.8025388 1115.25323  13.9%     -    0s\n",
      "H    0     0                    1274.6688796 1115.25323  12.5%     -    0s\n",
      "     0     0 1179.60919    0   35 1274.66888 1179.60919  7.46%     -    0s\n",
      "H    0     0                    1259.5446978 1179.60919  6.35%     -    0s\n",
      "H    0     0                    1259.2722689 1179.60919  6.33%     -    0s\n",
      "H    0     0                    1237.6364697 1179.60919  4.69%     -    0s\n",
      "     0     0 1180.36921    0   36 1237.63647 1180.36921  4.63%     -    0s\n",
      "     0     0 1181.28544    0   39 1237.63647 1181.28544  4.55%     -    0s\n",
      "     0     0 1200.24635    0   56 1237.63647 1200.24635  3.02%     -    0s\n",
      "     0     0 1204.08645    0   51 1237.63647 1204.08645  2.71%     -    0s\n",
      "     0     0 1204.31474    0   56 1237.63647 1204.31474  2.69%     -    0s\n",
      "     0     0 1216.37672    0   49 1237.63647 1216.37672  1.72%     -    0s\n",
      "H    0     0                    1234.4405178 1216.37672  1.46%     -    0s\n",
      "     0     0 1218.62701    0   52 1234.44052 1218.62701  1.28%     -    0s\n",
      "     0     0 1219.35234    0   63 1234.44052 1219.35234  1.22%     -    0s\n",
      "     0     0 1219.86614    0   65 1234.44052 1219.86614  1.18%     -    0s\n",
      "     0     0 1219.87514    0   67 1234.44052 1219.87514  1.18%     -    0s\n",
      "     0     0 1223.39775    0   26 1234.44052 1223.39775  0.89%     -    0s\n",
      "H    0     0                    1227.7567600 1223.39775  0.36%     -    0s\n",
      "     0     0 1226.01330    0   51 1227.75676 1226.01330  0.14%     -    0s\n",
      "     0     0 1226.54282    0    1 1227.75676 1226.54282  0.10%     -    0s\n",
      "     0     0 1226.54282    0    1 1227.75676 1226.54282  0.10%     -    0s\n",
      "     0     0 1226.54282    0    2 1227.75676 1226.54282  0.10%     -    0s\n",
      "     0     0 1226.54282    0   17 1227.75676 1226.54282  0.10%     -    0s\n",
      "     0     0 1227.09159    0    1 1227.75676 1227.09159  0.05%     -    0s\n",
      "     0     0     cutoff    0      1227.75676 1227.75676  0.00%     -    0s\n",
      "\n",
      "Cutting planes:\n",
      "  Lift-and-project: 1\n",
      "  Implied bound: 1\n",
      "  MIR: 1\n",
      "  Flow cover: 5\n",
      "\n",
      "Explored 1 nodes (1986 simplex iterations) in 0.64 seconds (0.20 work units)\n",
      "Thread count was 4 (of 4 available processors)\n",
      "\n",
      "Solution count 9: 1227.76 1234.44 1237.64 ... 1668.61\n",
      "\n",
      "Optimal solution found (tolerance 1.00e-04)\n",
      "Best objective 1.227756759978e+03, best bound 1.227756759978e+03, gap 0.0000%\n"
     ]
    }
   ],
   "source": [
    "# Equation 13\n",
    "mdl.setObjective( COST ,GRB.MINIMIZE)\n",
    "\n",
    "mdl.update()\n",
    "print(mdl)\n",
    "\n",
    "mdl.optimize()\n",
    "\n",
    "import winsound\n",
    "winsound.Beep(555, 888) # where 555 is the frequency in Hertz and 888 is the duration in miliseconds"
   ]
  },
  {
   "cell_type": "code",
   "execution_count": 31,
   "id": "31a16294",
   "metadata": {},
   "outputs": [
    {
     "name": "stdout",
     "output_type": "stream",
     "text": [
      "Equation 13: Cost Objective\n",
      "Emissions =  1826.7452411110155\n",
      "Open Distribution Centres:  4.0\n",
      "Open Branches:  1.0\n",
      "No. of vehicles used:  54.0\n"
     ]
    }
   ],
   "source": [
    "print(\"Equation 13: Cost Objective\")\n",
    "#print(\"Cost = \", COST.x)\n",
    "print(\"Emissions = \", EMISSIONS.x)\n",
    "#print(\"Objective = \", mdl.getObjective().getValue())\n",
    "\n",
    "\n",
    "VariableCOST_when_objectiveCOST = COST.x\n",
    "VariableEMISSIONS_when_objectiveCOST = EMISSIONS.x\n",
    "\n",
    "\n",
    "Open_DistributionCentres=0\n",
    "for i in R:\n",
    "    Open_DistributionCentres += z[i].x\n",
    "print(\"Open Distribution Centres: \",Open_DistributionCentres)\n",
    "\n",
    "Open_Branches=0\n",
    "for i in B:\n",
    "    Open_Branches += z[i].x\n",
    "print(\"Open Branches: \",Open_Branches)\n",
    "\n",
    "Veh_usage=0\n",
    "for i,j in E:\n",
    "    Veh_usage += x[i,j].x\n",
    "print(\"No. of vehicles used: \",Veh_usage)"
   ]
  },
  {
   "cell_type": "markdown",
   "id": "7c7d17fc",
   "metadata": {},
   "source": [
    "# %-age increase in Emissions when minimizing Cost"
   ]
  },
  {
   "cell_type": "code",
   "execution_count": 32,
   "id": "3ea4870a",
   "metadata": {},
   "outputs": [
    {
     "name": "stdout",
     "output_type": "stream",
     "text": [
      "82.19605220604444  % \n",
      "Vehicles Available:  999\n"
     ]
    }
   ],
   "source": [
    "Percent_age = (VariableEMISSIONS_when_objectiveCOST - VariableEMISSIONS_when_objectiveEMISSIONS) / VariableEMISSIONS_when_objectiveEMISSIONS\n",
    "\n",
    "print(Percent_age*100,\" % \")\n",
    "\n",
    "print(\"Vehicles Available: \",len(E))"
   ]
  },
  {
   "cell_type": "code",
   "execution_count": null,
   "id": "98404880",
   "metadata": {},
   "outputs": [],
   "source": []
  },
  {
   "cell_type": "code",
   "execution_count": null,
   "id": "3e072058",
   "metadata": {},
   "outputs": [],
   "source": []
  }
 ],
 "metadata": {
  "kernelspec": {
   "display_name": "Python 3 (ipykernel)",
   "language": "python",
   "name": "python3"
  },
  "language_info": {
   "codemirror_mode": {
    "name": "ipython",
    "version": 3
   },
   "file_extension": ".py",
   "mimetype": "text/x-python",
   "name": "python",
   "nbconvert_exporter": "python",
   "pygments_lexer": "ipython3",
   "version": "3.9.13"
  }
 },
 "nbformat": 4,
 "nbformat_minor": 5
}
