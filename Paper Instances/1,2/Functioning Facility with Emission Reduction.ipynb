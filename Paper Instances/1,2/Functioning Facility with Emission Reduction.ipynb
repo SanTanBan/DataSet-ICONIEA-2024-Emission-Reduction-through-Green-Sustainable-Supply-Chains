{
 "cells": [
  {
   "cell_type": "code",
   "execution_count": 1,
   "id": "c19d1192",
   "metadata": {},
   "outputs": [
    {
     "data": {
      "application/javascript": [
       "IPython.notebook.set_autosave_interval(11000)"
      ]
     },
     "metadata": {},
     "output_type": "display_data"
    },
    {
     "name": "stdout",
     "output_type": "stream",
     "text": [
      "Autosaving every 11 seconds\n"
     ]
    }
   ],
   "source": [
    "%autosave 11"
   ]
  },
  {
   "cell_type": "code",
   "execution_count": 2,
   "id": "dfb06287",
   "metadata": {},
   "outputs": [
    {
     "name": "stdout",
     "output_type": "stream",
     "text": [
      "Products\n",
      "Suppliers\n",
      "Distribution Centres\n",
      "Branches\n",
      "Customers\n",
      "Vehicle\n",
      "Commodity Flow Restrictions\n"
     ]
    }
   ],
   "source": [
    "import pandas as pd\n",
    "\n",
    "Facility_Details=pd.read_excel(\"Facility Details.xlsx\",sheet_name=None,index_col=0)\n",
    "\n",
    "for i in Facility_Details:\n",
    "    print(i)"
   ]
  },
  {
   "cell_type": "code",
   "execution_count": 3,
   "id": "65116be4",
   "metadata": {},
   "outputs": [],
   "source": [
    "K = Facility_Details[\"Products\"].index.tolist()"
   ]
  },
  {
   "cell_type": "code",
   "execution_count": 4,
   "id": "350316a8",
   "metadata": {},
   "outputs": [],
   "source": [
    "S = Facility_Details[\"Suppliers\"].index.tolist()\n",
    "\n",
    "S_Latitude = Facility_Details[\"Suppliers\"][\"Latitude\"]\n",
    "S_Longitude = Facility_Details[\"Suppliers\"][\"Longitude\"]"
   ]
  },
  {
   "cell_type": "code",
   "execution_count": 5,
   "id": "792b710f",
   "metadata": {},
   "outputs": [],
   "source": [
    "R = Facility_Details[\"Distribution Centres\"].index.tolist()\n",
    "\n",
    "R_Latitude = Facility_Details[\"Distribution Centres\"][\"Latitude\"]\n",
    "R_Longitude = Facility_Details[\"Distribution Centres\"][\"Longitude\"]\n",
    "\n",
    "R_F = Facility_Details[\"Distribution Centres\"][\"Fixed Emissions due to Facility Maintenance\"]\n",
    "R_V = Facility_Details[\"Distribution Centres\"][\"Variable Emissions due to Daily Operations\"]\n",
    "\n",
    "R_G = Facility_Details[\"Distribution Centres\"][\"Fixed Costs due to Facility Maintenance\"]\n",
    "R_W = Facility_Details[\"Distribution Centres\"][\"Variable Costs due to Daily Operations\"]"
   ]
  },
  {
   "cell_type": "code",
   "execution_count": 6,
   "id": "2cb33df4",
   "metadata": {},
   "outputs": [],
   "source": [
    "B = Facility_Details[\"Branches\"].index.tolist()\n",
    "\n",
    "B_Latitude = Facility_Details[\"Branches\"][\"Latitude\"]\n",
    "B_Longitude = Facility_Details[\"Branches\"][\"Longitude\"]\n",
    "\n",
    "B_F = Facility_Details[\"Branches\"][\"Fixed Emissions due to Facility Maintenance\"]\n",
    "B_V = Facility_Details[\"Branches\"][\"Variable Emissions due to Daily Operations\"]\n",
    "\n",
    "B_G = Facility_Details[\"Branches\"][\"Fixed Costs due to Facility Maintenance\"]\n",
    "B_W = Facility_Details[\"Branches\"][\"Variable Costs due to Daily Operations\"]"
   ]
  },
  {
   "cell_type": "code",
   "execution_count": 7,
   "id": "050ae4e7",
   "metadata": {},
   "outputs": [],
   "source": [
    "V_Emission = pd.concat([B_V, R_V], ignore_index=False, sort=False)\n",
    "F_Emission = pd.concat([B_F, R_F], ignore_index=False, sort=False)\n",
    "\n",
    "W_Cost = pd.concat([B_W, R_W], ignore_index=False, sort=False)\n",
    "G_Cost = pd.concat([B_G, R_G], ignore_index=False, sort=False)"
   ]
  },
  {
   "cell_type": "code",
   "execution_count": 8,
   "id": "6becc891",
   "metadata": {},
   "outputs": [],
   "source": [
    "C = Facility_Details[\"Customers\"].index.tolist()\n",
    "\n",
    "C_Latitude = Facility_Details[\"Customers\"][\"Latitude\"]\n",
    "C_Longitude = Facility_Details[\"Customers\"][\"Longitude\"]"
   ]
  },
  {
   "cell_type": "code",
   "execution_count": 9,
   "id": "8cc08e9a",
   "metadata": {},
   "outputs": [],
   "source": [
    "All_Longitudes = {**S_Longitude,**R_Longitude,**B_Longitude,**C_Longitude}\n",
    "All_Latitudes = {**S_Latitude,**R_Latitude,**B_Latitude,**C_Latitude}\n",
    "\n",
    "T={}\n",
    "\n",
    "for source in All_Longitudes:\n",
    "    for sink in All_Latitudes:\n",
    "        lat_diff = abs(All_Latitudes[source]-All_Latitudes[sink])\n",
    "        lon_diff = abs(All_Longitudes[source]-All_Longitudes[sink])\n",
    "        p=2\n",
    "        T[source,sink] = ( (lat_diff**p + lon_diff**p)**(1/p) )/1000 #Scaling down distance from meter to kilometers\n",
    "        \n",
    "#print(T)\n",
    "#T[\"C1\",\"C5\"]"
   ]
  },
  {
   "cell_type": "code",
   "execution_count": 10,
   "id": "09497397",
   "metadata": {},
   "outputs": [],
   "source": [
    "E = []\n",
    "\n",
    "for i in S:\n",
    "    for j in R+B:\n",
    "        E.append((i,j))\n",
    "        \n",
    "for i in R:\n",
    "    for j in B:\n",
    "        E.append((i,j))\n",
    "        \n",
    "for i in R+B:\n",
    "    for j in C:\n",
    "        E.append((i,j))"
   ]
  },
  {
   "cell_type": "code",
   "execution_count": 11,
   "id": "a7153ad3",
   "metadata": {},
   "outputs": [],
   "source": [
    "V = Facility_Details[\"Vehicle\"].index.tolist()\n",
    "\n",
    "Q = Facility_Details[\"Vehicle\"][\"Capacity (Q)\"][V[0]]\n",
    "\n",
    "F_0 = Facility_Details[\"Vehicle\"][\"Fixed Emission (F_0)\"][V[0]]\n",
    "V_0 = Facility_Details[\"Vehicle\"][\"Variable Emission (V_0)\"][V[0]]\n",
    "\n",
    "G_0 = Facility_Details[\"Vehicle\"][\"Fixed Cost (G_0)\"][V[0]]\n",
    "W_0 = Facility_Details[\"Vehicle\"][\"Variable Cost (W_0)\"][V[0]]"
   ]
  },
  {
   "cell_type": "code",
   "execution_count": 12,
   "id": "71d7d790",
   "metadata": {},
   "outputs": [],
   "source": [
    "U_H_D = Facility_Details[\"Commodity Flow Restrictions\"]"
   ]
  },
  {
   "cell_type": "code",
   "execution_count": 13,
   "id": "77ec9c19",
   "metadata": {},
   "outputs": [],
   "source": [
    "M = 1E7"
   ]
  },
  {
   "cell_type": "markdown",
   "id": "b4e1ec4c",
   "metadata": {},
   "source": [
    "# Data Reading and Set Creation is Complete"
   ]
  },
  {
   "cell_type": "code",
   "execution_count": 14,
   "id": "352b836a",
   "metadata": {},
   "outputs": [
    {
     "name": "stdout",
     "output_type": "stream",
     "text": [
      "Set parameter Username\n",
      "Academic license - for non-commercial use only - expires 2024-12-10\n"
     ]
    }
   ],
   "source": [
    "#pip install gurobipy\n",
    "from gurobipy import *\n",
    "\n",
    "# Set the problem\n",
    "mdl=Model(\"Functioning Facility with Emission Reduction\")"
   ]
  },
  {
   "cell_type": "markdown",
   "id": "8827c33a",
   "metadata": {},
   "source": [
    "# Variables"
   ]
  },
  {
   "cell_type": "code",
   "execution_count": 15,
   "id": "e7a100c4",
   "metadata": {},
   "outputs": [],
   "source": [
    "x = {}\n",
    "y = {}\n",
    "z = {}"
   ]
  },
  {
   "cell_type": "code",
   "execution_count": 16,
   "id": "dbc4b04f",
   "metadata": {},
   "outputs": [],
   "source": [
    "for i,j in E:\n",
    "    \n",
    "    x[i,j] = mdl.addVar(vtype=GRB.BINARY, name=\"x%s,%s\" % (i,j)) # Equation 10\n",
    "    \n",
    "    for k in K:\n",
    "        y[i,j,k] = mdl.addVar(name=\"y%s,%s,%s\" % (i,j,k)) # Equation 11\n",
    "            \n",
    "for i in R+B:\n",
    "    z[i] = mdl.addVar(vtype=GRB.BINARY, name=\"z%s\" % (i)) # Equation 12"
   ]
  },
  {
   "cell_type": "code",
   "execution_count": 17,
   "id": "4f5a3623",
   "metadata": {},
   "outputs": [],
   "source": [
    "COST = mdl.addVar(name=\"COST\")\n",
    "EMISSIONS = mdl.addVar(name=\"EMISSIONS\")"
   ]
  },
  {
   "cell_type": "markdown",
   "id": "724da4f0",
   "metadata": {},
   "source": [
    "# Constraints"
   ]
  },
  {
   "cell_type": "code",
   "execution_count": 18,
   "id": "386c3894",
   "metadata": {},
   "outputs": [
    {
     "data": {
      "text/plain": [
       "<gurobi.Constr *Awaiting Model Update*>"
      ]
     },
     "execution_count": 18,
     "metadata": {},
     "output_type": "execute_result"
    }
   ],
   "source": [
    "mdl.addConstr( quicksum( T[i,j]*( 2*x[i,j]*G_0 + W_0*quicksum(y[i,j,k] for k in K) ) for i,j in E )\n",
    "              + quicksum( z[i]*G_Cost[i] for i in R+B )\n",
    "              + quicksum( W_Cost[i]*( quicksum(y[j,i,k] for k in K for j in S) ) for i in R )\n",
    "              + quicksum( W_Cost[i]*( quicksum(y[i,j,k] for k in K for j in C) ) for i in B )\n",
    "              == COST)"
   ]
  },
  {
   "cell_type": "code",
   "execution_count": 19,
   "id": "0d6289a1",
   "metadata": {},
   "outputs": [
    {
     "data": {
      "text/plain": [
       "<gurobi.Constr *Awaiting Model Update*>"
      ]
     },
     "execution_count": 19,
     "metadata": {},
     "output_type": "execute_result"
    }
   ],
   "source": [
    "mdl.addConstr( quicksum( T[i,j]*( 2*x[i,j]*F_0 + V_0*quicksum(y[i,j,k] for k in K) ) for i,j in E )\n",
    "              + quicksum( z[i]*F_Emission[i] for i in R+B )\n",
    "              + quicksum( V_Emission[i]*( quicksum(y[j,i,k] for k in K for j in S) ) for i in R )\n",
    "              + quicksum( V_Emission[i]*( quicksum(y[i,j,k] for k in K for j in C) ) for i in B )\n",
    "              == EMISSIONS)"
   ]
  },
  {
   "cell_type": "code",
   "execution_count": 20,
   "id": "b1da1c39",
   "metadata": {},
   "outputs": [],
   "source": [
    "# Equation 2\n",
    "for k in K:\n",
    "    for i in S:\n",
    "        mdl.addConstr( quicksum( y[i,j,k] for j in R+B ) <= U_H_D[k][i] )"
   ]
  },
  {
   "cell_type": "code",
   "execution_count": 21,
   "id": "3dafb82f",
   "metadata": {},
   "outputs": [],
   "source": [
    "# Equation 3\n",
    "for k in K:\n",
    "    for i in R:\n",
    "        mdl.addConstr( quicksum( y[i,j,k] for j in C+B ) <= quicksum( y[j,i,k] for j in S ) )"
   ]
  },
  {
   "cell_type": "code",
   "execution_count": 22,
   "id": "653443e4",
   "metadata": {},
   "outputs": [],
   "source": [
    "# Equation 4\n",
    "for k in K:\n",
    "    for i in B:\n",
    "        mdl.addConstr( quicksum( y[i,j,k] for j in C ) + quicksum( y[j,i,k] for j in S )<= quicksum( y[j,i,k] for j in R ) )"
   ]
  },
  {
   "cell_type": "code",
   "execution_count": 23,
   "id": "9bcd2e39",
   "metadata": {},
   "outputs": [],
   "source": [
    "# Equation 5\n",
    "for k in K:\n",
    "    for j in R:\n",
    "        mdl.addConstr( quicksum( y[i,j,k] for i in S ) <= U_H_D[k][j] )"
   ]
  },
  {
   "cell_type": "code",
   "execution_count": 24,
   "id": "df9d2cbf",
   "metadata": {},
   "outputs": [],
   "source": [
    "# Equation 6\n",
    "for k in K:\n",
    "    for j in B:\n",
    "        mdl.addConstr( quicksum( y[i,j,k] for i in S+R ) <= U_H_D[k][j] )"
   ]
  },
  {
   "cell_type": "code",
   "execution_count": 25,
   "id": "9baafa84",
   "metadata": {},
   "outputs": [],
   "source": [
    "# Equation 7\n",
    "for k in K:\n",
    "    for j in C:\n",
    "        mdl.addConstr( quicksum( y[i,j,k] for i in R+B ) == U_H_D[k][j] )"
   ]
  },
  {
   "cell_type": "code",
   "execution_count": 26,
   "id": "b2161114",
   "metadata": {},
   "outputs": [],
   "source": [
    "# Equation 8\n",
    "for i,j in E:\n",
    "    mdl.addConstr( quicksum( y[i,j,k] for k in K ) <= Q*x[i,j] )"
   ]
  },
  {
   "cell_type": "code",
   "execution_count": 27,
   "id": "5fcd1cf9",
   "metadata": {},
   "outputs": [],
   "source": [
    "# Equation 9\n",
    "for i in R+B:\n",
    "    mdl.addConstr( quicksum(x[j,i] for j in S)\n",
    "                  +quicksum(x[j,i] for j in R if (not(i in R)))\n",
    "                  +quicksum(x[i,j] for j in B if (not(i in B)))\n",
    "                  +quicksum(x[i,j] for j in C)\n",
    "                  <= M*z[i] )"
   ]
  },
  {
   "cell_type": "markdown",
   "id": "313b20b7",
   "metadata": {},
   "source": [
    "# EMISSION Objective Function"
   ]
  },
  {
   "cell_type": "code",
   "execution_count": 28,
   "id": "03ebd511",
   "metadata": {},
   "outputs": [
    {
     "name": "stdout",
     "output_type": "stream",
     "text": [
      "<gurobi.Model MIP instance Functioning Facility with Emission Reduction: 630 constrs, 1794 vars, Parameter changes: Username=(user-defined)>\n",
      "Gurobi Optimizer version 10.0.3 build v10.0.3rc0 (win64)\n",
      "\n",
      "CPU model: Intel(R) Core(TM) i3-10110U CPU @ 2.10GHz, instruction set [SSE2|AVX|AVX2]\n",
      "Thread count: 2 physical cores, 4 logical processors, using up to 4 threads\n",
      "\n",
      "Optimize a model with 630 rows, 1794 columns and 8918 nonzeros\n",
      "Model fingerprint: 0xebcfdfd2\n",
      "Variable types: 1334 continuous, 460 integer (460 binary)\n",
      "Coefficient statistics:\n",
      "  Matrix range     [1e-02, 1e+07]\n",
      "  Objective range  [1e+00, 1e+00]\n",
      "  Bounds range     [1e+00, 1e+00]\n",
      "  RHS range        [1e+00, 7e+02]\n",
      "Presolve removed 107 rows and 792 columns\n",
      "Presolve time: 0.01s\n",
      "Presolved: 523 rows, 1002 columns, 2798 nonzeros\n",
      "Variable types: 590 continuous, 412 integer (412 binary)\n",
      "Found heuristic solution: objective 1274.9636933\n",
      "\n",
      "Root relaxation: objective 1.121226e+03, 343 iterations, 0.01 seconds (0.00 work units)\n",
      "\n",
      "    Nodes    |    Current Node    |     Objective Bounds      |     Work\n",
      " Expl Unexpl |  Obj  Depth IntInf | Incumbent    BestBd   Gap | It/Node Time\n",
      "\n",
      "     0     0 1121.22575    0   27 1274.96369 1121.22575  12.1%     -    0s\n",
      "H    0     0                    1189.1906735 1121.22575  5.72%     -    0s\n",
      "     0     0 1153.23002    0   11 1189.19067 1153.23002  3.02%     -    0s\n",
      "H    0     0                    1173.9041202 1153.23002  1.76%     -    0s\n",
      "H    0     0                    1170.9523074 1153.23002  1.51%     -    0s\n",
      "     0     0 1159.90091    0    5 1170.95231 1159.90091  0.94%     -    0s\n",
      "     0     0 1160.71977    0    4 1170.95231 1160.71977  0.87%     -    0s\n",
      "     0     0 1167.68723    0    1 1170.95231 1167.68723  0.28%     -    0s\n",
      "     0     0 1167.68723    0    1 1170.95231 1167.68723  0.28%     -    0s\n",
      "     0     0 1169.19269    0    1 1170.95231 1169.19269  0.15%     -    0s\n",
      "     0     0     cutoff    0      1170.95231 1170.95231  0.00%     -    0s\n",
      "\n",
      "Cutting planes:\n",
      "  MIR: 1\n",
      "  Flow cover: 1\n",
      "\n",
      "Explored 1 nodes (530 simplex iterations) in 0.19 seconds (0.03 work units)\n",
      "Thread count was 4 (of 4 available processors)\n",
      "\n",
      "Solution count 4: 1170.95 1173.9 1189.19 1274.96 \n",
      "\n",
      "Optimal solution found (tolerance 1.00e-04)\n",
      "Best objective 1.170952307388e+03, best bound 1.170952307388e+03, gap 0.0000%\n"
     ]
    }
   ],
   "source": [
    "# Equation 1\n",
    "mdl.setObjective( EMISSIONS ,GRB.MINIMIZE)\n",
    "\n",
    "mdl.update()\n",
    "print(mdl)\n",
    "\n",
    "mdl.optimize()\n",
    "\n",
    "import winsound\n",
    "winsound.Beep(555, 888) # where 555 is the frequency in Hertz and 888 is the duration in miliseconds"
   ]
  },
  {
   "cell_type": "code",
   "execution_count": 29,
   "id": "0adca6d1",
   "metadata": {},
   "outputs": [
    {
     "name": "stdout",
     "output_type": "stream",
     "text": [
      "Equation 1: Emission Objective\n",
      "Emissions =  1170.9523073878208\n",
      "Open Distribution Centres:  2.0\n",
      "Open Branches:  0.0\n",
      "No. of vehicles used:  27.0\n"
     ]
    }
   ],
   "source": [
    "print(\"Equation 1: Emission Objective\")\n",
    "#print(\"Cost = \", COST.x)\n",
    "print(\"Emissions = \", EMISSIONS.x)\n",
    "#print(\"Objective = \", mdl.getObjective().getValue())\n",
    "\n",
    "\n",
    "VariableCOST_when_objectiveEMISSIONS = COST.x\n",
    "VariableEMISSIONS_when_objectiveEMISSIONS = EMISSIONS.x\n",
    "\n",
    "\n",
    "Open_DistributionCentres=0\n",
    "for i in R:\n",
    "    Open_DistributionCentres += z[i].x\n",
    "print(\"Open Distribution Centres: \",Open_DistributionCentres)\n",
    "\n",
    "Open_Branches=0\n",
    "for i in B:\n",
    "    Open_Branches += z[i].x\n",
    "print(\"Open Branches: \",Open_Branches)\n",
    "\n",
    "Veh_usage=0\n",
    "for i,j in E:\n",
    "    Veh_usage += x[i,j].x\n",
    "print(\"No. of vehicles used: \",Veh_usage)"
   ]
  },
  {
   "cell_type": "markdown",
   "id": "b30bc4c4",
   "metadata": {},
   "source": [
    "# COST Objective Function"
   ]
  },
  {
   "cell_type": "code",
   "execution_count": 30,
   "id": "6509f785",
   "metadata": {},
   "outputs": [
    {
     "name": "stdout",
     "output_type": "stream",
     "text": [
      "<gurobi.Model MIP instance Functioning Facility with Emission Reduction: 630 constrs, 1794 vars, Parameter changes: Username=(user-defined)>\n",
      "Gurobi Optimizer version 10.0.3 build v10.0.3rc0 (win64)\n",
      "\n",
      "CPU model: Intel(R) Core(TM) i3-10110U CPU @ 2.10GHz, instruction set [SSE2|AVX|AVX2]\n",
      "Thread count: 2 physical cores, 4 logical processors, using up to 4 threads\n",
      "\n",
      "Optimize a model with 630 rows, 1794 columns and 8918 nonzeros\n",
      "Model fingerprint: 0x294b2539\n",
      "Variable types: 1334 continuous, 460 integer (460 binary)\n",
      "Coefficient statistics:\n",
      "  Matrix range     [1e-02, 1e+07]\n",
      "  Objective range  [1e+00, 1e+00]\n",
      "  Bounds range     [1e+00, 1e+00]\n",
      "  RHS range        [1e+00, 7e+02]\n",
      "\n",
      "MIP start from previous solve produced solution with objective 1389.44 (0.02s)\n",
      "Loaded MIP start from previous solve with objective 1389.44\n",
      "\n",
      "Presolve removed 107 rows and 792 columns\n",
      "Presolve time: 0.01s\n",
      "Presolved: 523 rows, 1002 columns, 2798 nonzeros\n",
      "Variable types: 590 continuous, 412 integer (412 binary)\n",
      "Found heuristic solution: objective 1385.0226041\n",
      "\n",
      "Root relaxation: objective 9.595368e+02, 345 iterations, 0.01 seconds (0.00 work units)\n",
      "\n",
      "    Nodes    |    Current Node    |     Objective Bounds      |     Work\n",
      " Expl Unexpl |  Obj  Depth IntInf | Incumbent    BestBd   Gap | It/Node Time\n",
      "\n",
      "     0     0  959.53675    0   27 1385.02260  959.53675  30.7%     -    0s\n",
      "H    0     0                    1112.1162379  959.53675  13.7%     -    0s\n",
      "H    0     0                    1109.4087881  959.53675  13.5%     -    0s\n",
      "H    0     0                    1088.2051494  959.53675  11.8%     -    0s\n",
      "     0     0 1025.84781    0   37 1088.20515 1025.84781  5.73%     -    0s\n",
      "H    0     0                    1067.3268201 1025.84781  3.89%     -    0s\n",
      "     0     0 1027.36506    0   37 1067.32682 1027.36506  3.74%     -    0s\n",
      "     0     0 1027.64208    0   38 1067.32682 1027.64208  3.72%     -    0s\n",
      "     0     0 1027.64451    0   38 1067.32682 1027.64451  3.72%     -    0s\n",
      "     0     0 1042.86625    0   42 1067.32682 1042.86625  2.29%     -    0s\n",
      "     0     0 1044.39919    0   35 1067.32682 1044.39919  2.15%     -    0s\n",
      "     0     0 1044.77255    0   38 1067.32682 1044.77255  2.11%     -    0s\n",
      "     0     0 1044.87121    0   40 1067.32682 1044.87121  2.10%     -    0s\n",
      "     0     0 1045.01038    0   44 1067.32682 1045.01038  2.09%     -    0s\n",
      "     0     0 1045.10965    0   45 1067.32682 1045.10965  2.08%     -    0s\n",
      "     0     0 1045.14761    0   46 1067.32682 1045.14761  2.08%     -    0s\n",
      "     0     0 1054.66261    0   37 1067.32682 1054.66261  1.19%     -    0s\n",
      "H    0     0                    1064.0813416 1054.66261  0.89%     -    0s\n",
      "     0     0 1058.26938    0   42 1064.08134 1058.26938  0.55%     -    0s\n",
      "     0     0 1058.53779    0   49 1064.08134 1058.53779  0.52%     -    0s\n",
      "     0     0 1059.20243    0   36 1064.08134 1059.20243  0.46%     -    0s\n",
      "     0     0 1060.64574    0   38 1064.08134 1060.64574  0.32%     -    0s\n",
      "     0     0 1060.79637    0   39 1064.08134 1060.79637  0.31%     -    0s\n",
      "     0     0 1061.89657    0    1 1064.08134 1061.89657  0.21%     -    0s\n",
      "     0     0 1061.89657    0   22 1064.08134 1061.89657  0.21%     -    0s\n",
      "     0     0 1061.89657    0    1 1064.08134 1061.89657  0.21%     -    0s\n",
      "H    0     0                    1063.3740528 1061.89657  0.14%     -    0s\n",
      "     0     0 1062.07408    0   13 1063.37405 1062.07408  0.12%     -    0s\n",
      "     0     0 1062.07408    0    3 1063.37405 1062.07408  0.12%     -    0s\n",
      "     0     0 1062.07408    0    1 1063.37405 1062.07408  0.12%     -    0s\n",
      "     0     0 1062.07408    0   11 1063.37405 1062.07408  0.12%     -    0s\n",
      "     0     0 1062.07408    0    1 1063.37405 1062.07408  0.12%     -    0s\n",
      "     0     0     cutoff    0      1063.37405 1063.37405  0.00%     -    0s\n",
      "\n",
      "Cutting planes:\n",
      "  Cover: 2\n",
      "  Implied bound: 5\n",
      "  Clique: 3\n",
      "  MIR: 1\n",
      "  Flow cover: 2\n",
      "\n",
      "Explored 1 nodes (1282 simplex iterations) in 0.37 seconds (0.08 work units)\n",
      "Thread count was 4 (of 4 available processors)\n",
      "\n",
      "Solution count 8: 1063.37 1064.08 1067.33 ... 1389.44\n",
      "\n",
      "Optimal solution found (tolerance 1.00e-04)\n",
      "Best objective 1.063374052819e+03, best bound 1.063374052819e+03, gap 0.0000%\n"
     ]
    }
   ],
   "source": [
    "# Equation 13\n",
    "mdl.setObjective( COST ,GRB.MINIMIZE)\n",
    "\n",
    "mdl.update()\n",
    "print(mdl)\n",
    "\n",
    "mdl.optimize()\n",
    "\n",
    "import winsound\n",
    "winsound.Beep(555, 888) # where 555 is the frequency in Hertz and 888 is the duration in miliseconds"
   ]
  },
  {
   "cell_type": "code",
   "execution_count": 31,
   "id": "31a16294",
   "metadata": {},
   "outputs": [
    {
     "name": "stdout",
     "output_type": "stream",
     "text": [
      "Equation 13: Cost Objective\n",
      "Emissions =  1494.4996370750353\n",
      "Open Distribution Centres:  3.0\n",
      "Open Branches:  0.0\n",
      "No. of vehicles used:  33.0\n"
     ]
    }
   ],
   "source": [
    "print(\"Equation 13: Cost Objective\")\n",
    "#print(\"Cost = \", COST.x)\n",
    "print(\"Emissions = \", EMISSIONS.x)\n",
    "#print(\"Objective = \", mdl.getObjective().getValue())\n",
    "\n",
    "\n",
    "VariableCOST_when_objectiveCOST = COST.x\n",
    "VariableEMISSIONS_when_objectiveCOST = EMISSIONS.x\n",
    "\n",
    "\n",
    "Open_DistributionCentres=0\n",
    "for i in R:\n",
    "    Open_DistributionCentres += z[i].x\n",
    "print(\"Open Distribution Centres: \",Open_DistributionCentres)\n",
    "\n",
    "Open_Branches=0\n",
    "for i in B:\n",
    "    Open_Branches += z[i].x\n",
    "print(\"Open Branches: \",Open_Branches)\n",
    "\n",
    "Veh_usage=0\n",
    "for i,j in E:\n",
    "    Veh_usage += x[i,j].x\n",
    "print(\"No. of vehicles used: \",Veh_usage)"
   ]
  },
  {
   "cell_type": "markdown",
   "id": "7c7d17fc",
   "metadata": {},
   "source": [
    "# %-age increase in Emissions when minimizing Cost"
   ]
  },
  {
   "cell_type": "code",
   "execution_count": 32,
   "id": "3ea4870a",
   "metadata": {},
   "outputs": [
    {
     "name": "stdout",
     "output_type": "stream",
     "text": [
      "27.631127898709128  % \n",
      "Vehicles Available:  444\n"
     ]
    }
   ],
   "source": [
    "Percent_age = (VariableEMISSIONS_when_objectiveCOST - VariableEMISSIONS_when_objectiveEMISSIONS) / VariableEMISSIONS_when_objectiveEMISSIONS\n",
    "\n",
    "print(Percent_age*100,\" % \")\n",
    "\n",
    "print(\"Vehicles Available: \",len(E))"
   ]
  },
  {
   "cell_type": "code",
   "execution_count": null,
   "id": "98404880",
   "metadata": {},
   "outputs": [],
   "source": []
  },
  {
   "cell_type": "code",
   "execution_count": null,
   "id": "3e072058",
   "metadata": {},
   "outputs": [],
   "source": []
  }
 ],
 "metadata": {
  "kernelspec": {
   "display_name": "Python 3 (ipykernel)",
   "language": "python",
   "name": "python3"
  },
  "language_info": {
   "codemirror_mode": {
    "name": "ipython",
    "version": 3
   },
   "file_extension": ".py",
   "mimetype": "text/x-python",
   "name": "python",
   "nbconvert_exporter": "python",
   "pygments_lexer": "ipython3",
   "version": "3.9.13"
  }
 },
 "nbformat": 4,
 "nbformat_minor": 5
}
