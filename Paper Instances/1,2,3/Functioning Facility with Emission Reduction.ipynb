{
 "cells": [
  {
   "cell_type": "code",
   "execution_count": 1,
   "id": "c19d1192",
   "metadata": {},
   "outputs": [
    {
     "data": {
      "application/javascript": [
       "IPython.notebook.set_autosave_interval(11000)"
      ]
     },
     "metadata": {},
     "output_type": "display_data"
    },
    {
     "name": "stdout",
     "output_type": "stream",
     "text": [
      "Autosaving every 11 seconds\n"
     ]
    }
   ],
   "source": [
    "%autosave 11"
   ]
  },
  {
   "cell_type": "code",
   "execution_count": 2,
   "id": "dfb06287",
   "metadata": {},
   "outputs": [
    {
     "name": "stdout",
     "output_type": "stream",
     "text": [
      "Products\n",
      "Suppliers\n",
      "Distribution Centres\n",
      "Branches\n",
      "Customers\n",
      "Vehicle\n",
      "Commodity Flow Restrictions\n"
     ]
    }
   ],
   "source": [
    "import pandas as pd\n",
    "\n",
    "Facility_Details=pd.read_excel(\"Facility Details.xlsx\",sheet_name=None,index_col=0)\n",
    "\n",
    "for i in Facility_Details:\n",
    "    print(i)"
   ]
  },
  {
   "cell_type": "code",
   "execution_count": 3,
   "id": "65116be4",
   "metadata": {},
   "outputs": [],
   "source": [
    "K = Facility_Details[\"Products\"].index.tolist()"
   ]
  },
  {
   "cell_type": "code",
   "execution_count": 4,
   "id": "350316a8",
   "metadata": {},
   "outputs": [],
   "source": [
    "S = Facility_Details[\"Suppliers\"].index.tolist()\n",
    "\n",
    "S_Latitude = Facility_Details[\"Suppliers\"][\"Latitude\"]\n",
    "S_Longitude = Facility_Details[\"Suppliers\"][\"Longitude\"]"
   ]
  },
  {
   "cell_type": "code",
   "execution_count": 5,
   "id": "792b710f",
   "metadata": {},
   "outputs": [],
   "source": [
    "R = Facility_Details[\"Distribution Centres\"].index.tolist()\n",
    "\n",
    "R_Latitude = Facility_Details[\"Distribution Centres\"][\"Latitude\"]\n",
    "R_Longitude = Facility_Details[\"Distribution Centres\"][\"Longitude\"]\n",
    "\n",
    "R_F = Facility_Details[\"Distribution Centres\"][\"Fixed Emissions due to Facility Maintenance\"]\n",
    "R_V = Facility_Details[\"Distribution Centres\"][\"Variable Emissions due to Daily Operations\"]\n",
    "\n",
    "R_G = Facility_Details[\"Distribution Centres\"][\"Fixed Costs due to Facility Maintenance\"]\n",
    "R_W = Facility_Details[\"Distribution Centres\"][\"Variable Costs due to Daily Operations\"]"
   ]
  },
  {
   "cell_type": "code",
   "execution_count": 6,
   "id": "2cb33df4",
   "metadata": {},
   "outputs": [],
   "source": [
    "B = Facility_Details[\"Branches\"].index.tolist()\n",
    "\n",
    "B_Latitude = Facility_Details[\"Branches\"][\"Latitude\"]\n",
    "B_Longitude = Facility_Details[\"Branches\"][\"Longitude\"]\n",
    "\n",
    "B_F = Facility_Details[\"Branches\"][\"Fixed Emissions due to Facility Maintenance\"]\n",
    "B_V = Facility_Details[\"Branches\"][\"Variable Emissions due to Daily Operations\"]\n",
    "\n",
    "B_G = Facility_Details[\"Branches\"][\"Fixed Costs due to Facility Maintenance\"]\n",
    "B_W = Facility_Details[\"Branches\"][\"Variable Costs due to Daily Operations\"]"
   ]
  },
  {
   "cell_type": "code",
   "execution_count": 7,
   "id": "050ae4e7",
   "metadata": {},
   "outputs": [],
   "source": [
    "V_Emission = pd.concat([B_V, R_V], ignore_index=False, sort=False)\n",
    "F_Emission = pd.concat([B_F, R_F], ignore_index=False, sort=False)\n",
    "\n",
    "W_Cost = pd.concat([B_W, R_W], ignore_index=False, sort=False)\n",
    "G_Cost = pd.concat([B_G, R_G], ignore_index=False, sort=False)"
   ]
  },
  {
   "cell_type": "code",
   "execution_count": 8,
   "id": "6becc891",
   "metadata": {},
   "outputs": [],
   "source": [
    "C = Facility_Details[\"Customers\"].index.tolist()\n",
    "\n",
    "C_Latitude = Facility_Details[\"Customers\"][\"Latitude\"]\n",
    "C_Longitude = Facility_Details[\"Customers\"][\"Longitude\"]"
   ]
  },
  {
   "cell_type": "code",
   "execution_count": 9,
   "id": "8cc08e9a",
   "metadata": {},
   "outputs": [],
   "source": [
    "All_Longitudes = {**S_Longitude,**R_Longitude,**B_Longitude,**C_Longitude}\n",
    "All_Latitudes = {**S_Latitude,**R_Latitude,**B_Latitude,**C_Latitude}\n",
    "\n",
    "T={}\n",
    "\n",
    "for source in All_Longitudes:\n",
    "    for sink in All_Latitudes:\n",
    "        lat_diff = abs(All_Latitudes[source]-All_Latitudes[sink])\n",
    "        lon_diff = abs(All_Longitudes[source]-All_Longitudes[sink])\n",
    "        p=2\n",
    "        T[source,sink] = ( (lat_diff**p + lon_diff**p)**(1/p) )/1000 #Scaling down distance from meter to kilometers\n",
    "        \n",
    "#print(T)\n",
    "#T[\"C1\",\"C5\"]"
   ]
  },
  {
   "cell_type": "code",
   "execution_count": 10,
   "id": "09497397",
   "metadata": {},
   "outputs": [],
   "source": [
    "E = []\n",
    "\n",
    "for i in S:\n",
    "    for j in R+B:\n",
    "        E.append((i,j))\n",
    "        \n",
    "for i in R:\n",
    "    for j in B:\n",
    "        E.append((i,j))\n",
    "        \n",
    "for i in R+B:\n",
    "    for j in C:\n",
    "        E.append((i,j))"
   ]
  },
  {
   "cell_type": "code",
   "execution_count": 11,
   "id": "a7153ad3",
   "metadata": {},
   "outputs": [],
   "source": [
    "V = Facility_Details[\"Vehicle\"].index.tolist()\n",
    "\n",
    "Q = Facility_Details[\"Vehicle\"][\"Capacity (Q)\"][V[0]]\n",
    "\n",
    "F_0 = Facility_Details[\"Vehicle\"][\"Fixed Emission (F_0)\"][V[0]]\n",
    "V_0 = Facility_Details[\"Vehicle\"][\"Variable Emission (V_0)\"][V[0]]\n",
    "\n",
    "G_0 = Facility_Details[\"Vehicle\"][\"Fixed Cost (G_0)\"][V[0]]\n",
    "W_0 = Facility_Details[\"Vehicle\"][\"Variable Cost (W_0)\"][V[0]]"
   ]
  },
  {
   "cell_type": "code",
   "execution_count": 12,
   "id": "71d7d790",
   "metadata": {},
   "outputs": [],
   "source": [
    "U_H_D = Facility_Details[\"Commodity Flow Restrictions\"]"
   ]
  },
  {
   "cell_type": "code",
   "execution_count": 13,
   "id": "77ec9c19",
   "metadata": {},
   "outputs": [],
   "source": [
    "M = 1E7"
   ]
  },
  {
   "cell_type": "markdown",
   "id": "b4e1ec4c",
   "metadata": {},
   "source": [
    "# Data Reading and Set Creation is Complete"
   ]
  },
  {
   "cell_type": "code",
   "execution_count": 14,
   "id": "352b836a",
   "metadata": {},
   "outputs": [
    {
     "name": "stdout",
     "output_type": "stream",
     "text": [
      "Set parameter Username\n",
      "Academic license - for non-commercial use only - expires 2024-12-10\n"
     ]
    }
   ],
   "source": [
    "#pip install gurobipy\n",
    "from gurobipy import *\n",
    "\n",
    "# Set the problem\n",
    "mdl=Model(\"Functioning Facility with Emission Reduction\")"
   ]
  },
  {
   "cell_type": "markdown",
   "id": "8827c33a",
   "metadata": {},
   "source": [
    "# Variables"
   ]
  },
  {
   "cell_type": "code",
   "execution_count": 15,
   "id": "e7a100c4",
   "metadata": {},
   "outputs": [],
   "source": [
    "x = {}\n",
    "y = {}\n",
    "z = {}"
   ]
  },
  {
   "cell_type": "code",
   "execution_count": 16,
   "id": "dbc4b04f",
   "metadata": {},
   "outputs": [],
   "source": [
    "for i,j in E:\n",
    "    \n",
    "    x[i,j] = mdl.addVar(vtype=GRB.BINARY, name=\"x%s,%s\" % (i,j)) # Equation 10\n",
    "    \n",
    "    for k in K:\n",
    "        y[i,j,k] = mdl.addVar(name=\"y%s,%s,%s\" % (i,j,k)) # Equation 11\n",
    "            \n",
    "for i in R+B:\n",
    "    z[i] = mdl.addVar(vtype=GRB.BINARY, name=\"z%s\" % (i)) # Equation 12"
   ]
  },
  {
   "cell_type": "code",
   "execution_count": 17,
   "id": "4f5a3623",
   "metadata": {},
   "outputs": [],
   "source": [
    "COST = mdl.addVar(name=\"COST\")\n",
    "EMISSIONS = mdl.addVar(name=\"EMISSIONS\")"
   ]
  },
  {
   "cell_type": "markdown",
   "id": "724da4f0",
   "metadata": {},
   "source": [
    "# Constraints"
   ]
  },
  {
   "cell_type": "code",
   "execution_count": 18,
   "id": "386c3894",
   "metadata": {},
   "outputs": [
    {
     "data": {
      "text/plain": [
       "<gurobi.Constr *Awaiting Model Update*>"
      ]
     },
     "execution_count": 18,
     "metadata": {},
     "output_type": "execute_result"
    }
   ],
   "source": [
    "mdl.addConstr( quicksum( T[i,j]*( 2*x[i,j]*G_0 + W_0*quicksum(y[i,j,k] for k in K) ) for i,j in E )\n",
    "              + quicksum( z[i]*G_Cost[i] for i in R+B )\n",
    "              + quicksum( W_Cost[i]*( quicksum(y[j,i,k] for k in K for j in S) ) for i in R )\n",
    "              + quicksum( W_Cost[i]*( quicksum(y[i,j,k] for k in K for j in C) ) for i in B )\n",
    "              == COST)"
   ]
  },
  {
   "cell_type": "code",
   "execution_count": 19,
   "id": "0d6289a1",
   "metadata": {},
   "outputs": [
    {
     "data": {
      "text/plain": [
       "<gurobi.Constr *Awaiting Model Update*>"
      ]
     },
     "execution_count": 19,
     "metadata": {},
     "output_type": "execute_result"
    }
   ],
   "source": [
    "mdl.addConstr( quicksum( T[i,j]*( 2*x[i,j]*F_0 + V_0*quicksum(y[i,j,k] for k in K) ) for i,j in E )\n",
    "              + quicksum( z[i]*F_Emission[i] for i in R+B )\n",
    "              + quicksum( V_Emission[i]*( quicksum(y[j,i,k] for k in K for j in S) ) for i in R )\n",
    "              + quicksum( V_Emission[i]*( quicksum(y[i,j,k] for k in K for j in C) ) for i in B )\n",
    "              == EMISSIONS)"
   ]
  },
  {
   "cell_type": "code",
   "execution_count": 20,
   "id": "b1da1c39",
   "metadata": {},
   "outputs": [],
   "source": [
    "# Equation 2\n",
    "for k in K:\n",
    "    for i in S:\n",
    "        mdl.addConstr( quicksum( y[i,j,k] for j in R+B ) <= U_H_D[k][i] )"
   ]
  },
  {
   "cell_type": "code",
   "execution_count": 21,
   "id": "3dafb82f",
   "metadata": {},
   "outputs": [],
   "source": [
    "# Equation 3\n",
    "for k in K:\n",
    "    for i in R:\n",
    "        mdl.addConstr( quicksum( y[i,j,k] for j in C+B ) <= quicksum( y[j,i,k] for j in S ) )"
   ]
  },
  {
   "cell_type": "code",
   "execution_count": 22,
   "id": "653443e4",
   "metadata": {},
   "outputs": [],
   "source": [
    "# Equation 4\n",
    "for k in K:\n",
    "    for i in B:\n",
    "        mdl.addConstr( quicksum( y[i,j,k] for j in C ) + quicksum( y[j,i,k] for j in S )<= quicksum( y[j,i,k] for j in R ) )"
   ]
  },
  {
   "cell_type": "code",
   "execution_count": 23,
   "id": "9bcd2e39",
   "metadata": {},
   "outputs": [],
   "source": [
    "# Equation 5\n",
    "for k in K:\n",
    "    for j in R:\n",
    "        mdl.addConstr( quicksum( y[i,j,k] for i in S ) <= U_H_D[k][j] )"
   ]
  },
  {
   "cell_type": "code",
   "execution_count": 24,
   "id": "df9d2cbf",
   "metadata": {},
   "outputs": [],
   "source": [
    "# Equation 6\n",
    "for k in K:\n",
    "    for j in B:\n",
    "        mdl.addConstr( quicksum( y[i,j,k] for i in S+R ) <= U_H_D[k][j] )"
   ]
  },
  {
   "cell_type": "code",
   "execution_count": 25,
   "id": "9baafa84",
   "metadata": {},
   "outputs": [],
   "source": [
    "# Equation 7\n",
    "for k in K:\n",
    "    for j in C:\n",
    "        mdl.addConstr( quicksum( y[i,j,k] for i in R+B ) == U_H_D[k][j] )"
   ]
  },
  {
   "cell_type": "code",
   "execution_count": 26,
   "id": "b2161114",
   "metadata": {},
   "outputs": [],
   "source": [
    "# Equation 8\n",
    "for i,j in E:\n",
    "    mdl.addConstr( quicksum( y[i,j,k] for k in K ) <= Q*x[i,j] )"
   ]
  },
  {
   "cell_type": "code",
   "execution_count": 27,
   "id": "5fcd1cf9",
   "metadata": {},
   "outputs": [],
   "source": [
    "# Equation 9\n",
    "for i in R+B:\n",
    "    mdl.addConstr( quicksum(x[j,i] for j in S)\n",
    "                  +quicksum(x[j,i] for j in R if (not(i in R)))\n",
    "                  +quicksum(x[i,j] for j in B if (not(i in B)))\n",
    "                  +quicksum(x[i,j] for j in C)\n",
    "                  <= M*z[i] )"
   ]
  },
  {
   "cell_type": "markdown",
   "id": "313b20b7",
   "metadata": {},
   "source": [
    "# EMISSION Objective Function"
   ]
  },
  {
   "cell_type": "code",
   "execution_count": 28,
   "id": "03ebd511",
   "metadata": {},
   "outputs": [
    {
     "name": "stdout",
     "output_type": "stream",
     "text": [
      "<gurobi.Model MIP instance Functioning Facility with Emission Reduction: 1277 constrs, 4022 vars, Parameter changes: Username=(user-defined)>\n",
      "Gurobi Optimizer version 10.0.3 build v10.0.3rc0 (win64)\n",
      "\n",
      "CPU model: Intel(R) Core(TM) i3-10110U CPU @ 2.10GHz, instruction set [SSE2|AVX|AVX2]\n",
      "Thread count: 2 physical cores, 4 logical processors, using up to 4 threads\n",
      "\n",
      "Optimize a model with 1277 rows, 4022 columns and 20027 nonzeros\n",
      "Model fingerprint: 0xe85acc94\n",
      "Variable types: 2999 continuous, 1023 integer (1023 binary)\n",
      "Coefficient statistics:\n",
      "  Matrix range     [1e-02, 1e+07]\n",
      "  Objective range  [1e+00, 1e+00]\n",
      "  Bounds range     [1e+00, 1e+00]\n",
      "  RHS range        [1e+00, 1e+03]\n",
      "Presolve removed 185 rows and 1901 columns\n",
      "Presolve time: 0.03s\n",
      "Presolved: 1092 rows, 2121 columns, 5849 nonzeros\n",
      "Variable types: 1196 continuous, 925 integer (925 binary)\n",
      "Found heuristic solution: objective 1935.5992793\n",
      "\n",
      "Root relaxation: objective 1.679636e+03, 689 iterations, 0.01 seconds (0.01 work units)\n",
      "\n",
      "    Nodes    |    Current Node    |     Objective Bounds      |     Work\n",
      " Expl Unexpl |  Obj  Depth IntInf | Incumbent    BestBd   Gap | It/Node Time\n",
      "\n",
      "     0     0 1679.63562    0   45 1935.59928 1679.63562  13.2%     -    0s\n",
      "H    0     0                    1889.7513185 1679.63562  11.1%     -    0s\n",
      "     0     0 1723.84487    0   14 1889.75132 1723.84487  8.78%     -    0s\n",
      "H    0     0                    1827.4513292 1723.84487  5.67%     -    0s\n",
      "H    0     0                    1811.8837732 1723.84487  4.86%     -    0s\n",
      "H    0     0                    1799.7194228 1723.84487  4.22%     -    0s\n",
      "H    0     0                    1759.3795466 1723.84487  2.02%     -    0s\n",
      "     0     0 1726.48550    0   15 1759.37955 1726.48550  1.87%     -    0s\n",
      "     0     0 1744.16534    0   34 1759.37955 1744.16534  0.86%     -    0s\n",
      "     0     0 1744.18505    0   31 1759.37955 1744.18505  0.86%     -    0s\n",
      "     0     0 1744.32495    0   29 1759.37955 1744.32495  0.86%     -    0s\n",
      "     0     0 1744.32517    0   30 1759.37955 1744.32517  0.86%     -    0s\n",
      "     0     0 1750.77500    0   25 1759.37955 1750.77500  0.49%     -    0s\n",
      "     0     0 1751.05547    0   24 1759.37955 1751.05547  0.47%     -    0s\n",
      "     0     0 1753.88926    0    9 1759.37955 1753.88926  0.31%     -    0s\n",
      "     0     0 1753.95783    0    9 1759.37955 1753.95783  0.31%     -    0s\n",
      "     0     0 1754.64855    0   21 1759.37955 1754.64855  0.27%     -    0s\n",
      "     0     0 1754.64855    0    5 1759.37955 1754.64855  0.27%     -    0s\n",
      "     0     0 1756.46434    0   13 1759.37955 1756.46434  0.17%     -    0s\n",
      "*    0     0               0    1756.4791421 1756.47914  0.00%     -    0s\n",
      "\n",
      "Cutting planes:\n",
      "  Gomory: 4\n",
      "  Cover: 1\n",
      "  Implied bound: 19\n",
      "  Clique: 11\n",
      "  MIR: 5\n",
      "  Flow cover: 9\n",
      "  Network: 3\n",
      "  Relax-and-lift: 1\n",
      "\n",
      "Explored 1 nodes (1448 simplex iterations) in 0.39 seconds (0.12 work units)\n",
      "Thread count was 4 (of 4 available processors)\n",
      "\n",
      "Solution count 7: 1756.48 1759.38 1799.72 ... 1935.6\n",
      "\n",
      "Optimal solution found (tolerance 1.00e-04)\n",
      "Best objective 1.756479142119e+03, best bound 1.756479142119e+03, gap 0.0000%\n"
     ]
    }
   ],
   "source": [
    "# Equation 1\n",
    "mdl.setObjective( EMISSIONS ,GRB.MINIMIZE)\n",
    "\n",
    "mdl.update()\n",
    "print(mdl)\n",
    "\n",
    "mdl.optimize()\n",
    "\n",
    "import winsound\n",
    "winsound.Beep(555, 888) # where 555 is the frequency in Hertz and 888 is the duration in miliseconds"
   ]
  },
  {
   "cell_type": "code",
   "execution_count": 29,
   "id": "0adca6d1",
   "metadata": {},
   "outputs": [
    {
     "name": "stdout",
     "output_type": "stream",
     "text": [
      "Equation 1: Emission Objective\n",
      "Emissions =  1756.4791421185905\n",
      "Open Distribution Centres:  3.0\n",
      "Open Branches:  0.0\n",
      "No. of vehicles used:  44.0\n"
     ]
    }
   ],
   "source": [
    "print(\"Equation 1: Emission Objective\")\n",
    "#print(\"Cost = \", COST.x)\n",
    "print(\"Emissions = \", EMISSIONS.x)\n",
    "#print(\"Objective = \", mdl.getObjective().getValue())\n",
    "\n",
    "\n",
    "VariableCOST_when_objectiveEMISSIONS = COST.x\n",
    "VariableEMISSIONS_when_objectiveEMISSIONS = EMISSIONS.x\n",
    "\n",
    "\n",
    "Open_DistributionCentres=0\n",
    "for i in R:\n",
    "    Open_DistributionCentres += z[i].x\n",
    "print(\"Open Distribution Centres: \",Open_DistributionCentres)\n",
    "\n",
    "Open_Branches=0\n",
    "for i in B:\n",
    "    Open_Branches += z[i].x\n",
    "print(\"Open Branches: \",Open_Branches)\n",
    "\n",
    "Veh_usage=0\n",
    "for i,j in E:\n",
    "    Veh_usage += x[i,j].x\n",
    "print(\"No. of vehicles used: \",Veh_usage)"
   ]
  },
  {
   "cell_type": "markdown",
   "id": "b30bc4c4",
   "metadata": {},
   "source": [
    "# COST Objective Function"
   ]
  },
  {
   "cell_type": "code",
   "execution_count": 30,
   "id": "6509f785",
   "metadata": {},
   "outputs": [
    {
     "name": "stdout",
     "output_type": "stream",
     "text": [
      "<gurobi.Model MIP instance Functioning Facility with Emission Reduction: 1277 constrs, 4022 vars, Parameter changes: Username=(user-defined)>\n",
      "Gurobi Optimizer version 10.0.3 build v10.0.3rc0 (win64)\n",
      "\n",
      "CPU model: Intel(R) Core(TM) i3-10110U CPU @ 2.10GHz, instruction set [SSE2|AVX|AVX2]\n",
      "Thread count: 2 physical cores, 4 logical processors, using up to 4 threads\n",
      "\n",
      "Optimize a model with 1277 rows, 4022 columns and 20027 nonzeros\n",
      "Model fingerprint: 0xa1b2191b\n",
      "Variable types: 2999 continuous, 1023 integer (1023 binary)\n",
      "Coefficient statistics:\n",
      "  Matrix range     [1e-02, 1e+07]\n",
      "  Objective range  [1e+00, 1e+00]\n",
      "  Bounds range     [1e+00, 1e+00]\n",
      "  RHS range        [1e+00, 1e+03]\n",
      "\n",
      "MIP start from previous solve produced solution with objective 2068.79 (0.04s)\n",
      "MIP start from previous solve produced solution with objective 2068.79 (0.04s)\n",
      "Loaded MIP start from previous solve with objective 2068.79\n",
      "\n",
      "Presolve removed 185 rows and 1901 columns\n",
      "Presolve time: 0.03s\n",
      "Presolved: 1092 rows, 2121 columns, 5849 nonzeros\n",
      "Variable types: 1196 continuous, 925 integer (925 binary)\n",
      "Found heuristic solution: objective 2065.6997596\n",
      "\n",
      "Root relaxation: objective 1.475845e+03, 721 iterations, 0.02 seconds (0.01 work units)\n",
      "\n",
      "    Nodes    |    Current Node    |     Objective Bounds      |     Work\n",
      " Expl Unexpl |  Obj  Depth IntInf | Incumbent    BestBd   Gap | It/Node Time\n",
      "\n",
      "     0     0 1475.84535    0   42 2065.69976 1475.84535  28.6%     -    0s\n",
      "H    0     0                    1741.3699414 1475.84535  15.2%     -    0s\n",
      "H    0     0                    1699.3143128 1475.84535  13.2%     -    0s\n",
      "     0     0 1533.06005    0   66 1699.31431 1533.06005  9.78%     -    0s\n",
      "H    0     0                    1630.9054060 1533.06005  6.00%     -    0s\n",
      "H    0     0                    1594.4067286 1533.06005  3.85%     -    0s\n",
      "     0     0 1551.74516    0   35 1594.40673 1551.74516  2.68%     -    0s\n",
      "H    0     0                    1589.9085796 1551.74516  2.40%     -    0s\n",
      "H    0     0                    1585.3090844 1551.74516  2.12%     -    0s\n",
      "     0     0 1555.95036    0   64 1585.30908 1555.95036  1.85%     -    0s\n",
      "     0     0 1556.93493    0   69 1585.30908 1556.93493  1.79%     -    0s\n",
      "     0     0 1556.95032    0   62 1585.30908 1556.95032  1.79%     -    0s\n",
      "     0     0 1565.76352    0   65 1585.30908 1565.76352  1.23%     -    0s\n",
      "     0     0 1567.87755    0   59 1585.30908 1567.87755  1.10%     -    0s\n",
      "     0     0 1568.46134    0   89 1585.30908 1568.46134  1.06%     -    0s\n",
      "     0     0 1568.58934    0   73 1585.30908 1568.58934  1.05%     -    0s\n",
      "     0     0 1568.69421    0   72 1585.30908 1568.69421  1.05%     -    0s\n",
      "     0     0 1568.69564    0   74 1585.30908 1568.69564  1.05%     -    0s\n",
      "     0     0 1571.17821    0   83 1585.30908 1571.17821  0.89%     -    0s\n",
      "     0     0 1571.54648    0   43 1585.30908 1571.54648  0.87%     -    0s\n",
      "     0     0 1571.55581    0   44 1585.30908 1571.55581  0.87%     -    0s\n",
      "     0     0 1572.44801    0   52 1585.30908 1572.44801  0.81%     -    0s\n",
      "     0     0 1572.44801    0    8 1585.30908 1572.44801  0.81%     -    0s\n",
      "H    0     0                    1579.3516366 1572.44801  0.44%     -    0s\n",
      "     0     0 1572.44801    0   33 1579.35164 1572.44801  0.44%     -    0s\n",
      "     0     0 1572.44801    0    8 1579.35164 1572.44801  0.44%     -    0s\n",
      "     0     0 1572.44801    0   36 1579.35164 1572.44801  0.44%     -    0s\n",
      "     0     0 1572.44801    0   34 1579.35164 1572.44801  0.44%     -    0s\n",
      "     0     0 1572.44801    0   47 1579.35164 1572.44801  0.44%     -    0s\n",
      "     0     0 1575.78493    0   40 1579.35164 1575.78493  0.23%     -    0s\n",
      "     0     0 1575.78493    0    7 1579.35164 1575.78493  0.23%     -    0s\n",
      "     0     0 1575.78493    0   31 1579.35164 1575.78493  0.23%     -    0s\n",
      "     0     0 1575.78493    0   16 1579.35164 1575.78493  0.23%     -    0s\n",
      "     0     0 1575.99637    0    6 1579.35164 1575.99637  0.21%     -    0s\n",
      "     0     0 1576.22496    0   13 1579.35164 1576.22496  0.20%     -    0s\n",
      "     0     0 1576.31790    0   20 1579.35164 1576.31790  0.19%     -    0s\n",
      "     0     0 1576.47890    0   20 1579.35164 1576.47890  0.18%     -    0s\n",
      "     0     0 1577.66658    0   16 1579.35164 1577.66658  0.11%     -    0s\n",
      "     0     0 1577.66658    0    7 1579.35164 1577.66658  0.11%     -    0s\n",
      "     0     0 1577.66658    0   12 1579.35164 1577.66658  0.11%     -    0s\n",
      "     0     0 1578.56150    0    8 1579.35164 1578.56150  0.05%     -    0s\n",
      "     0     0 1579.05018    0    5 1579.35164 1579.05018  0.02%     -    0s\n",
      "     0     0     cutoff    0      1579.35164 1579.35164  0.00%     -    0s\n",
      "\n",
      "Cutting planes:\n",
      "  Gomory: 3\n",
      "  Implied bound: 1\n",
      "  MIR: 2\n",
      "  Flow cover: 4\n",
      "  Network: 1\n",
      "  Relax-and-lift: 1\n",
      "\n",
      "Explored 1 nodes (4230 simplex iterations) in 0.91 seconds (0.33 work units)\n",
      "Thread count was 4 (of 4 available processors)\n",
      "\n",
      "Solution count 9: 1579.35 1585.31 1589.91 ... 2068.79\n",
      "\n",
      "Optimal solution found (tolerance 1.00e-04)\n",
      "Best objective 1.579351636588e+03, best bound 1.579351636588e+03, gap 0.0000%\n"
     ]
    }
   ],
   "source": [
    "# Equation 13\n",
    "mdl.setObjective( COST ,GRB.MINIMIZE)\n",
    "\n",
    "mdl.update()\n",
    "print(mdl)\n",
    "\n",
    "mdl.optimize()\n",
    "\n",
    "import winsound\n",
    "winsound.Beep(555, 888) # where 555 is the frequency in Hertz and 888 is the duration in miliseconds"
   ]
  },
  {
   "cell_type": "code",
   "execution_count": 31,
   "id": "31a16294",
   "metadata": {},
   "outputs": [
    {
     "name": "stdout",
     "output_type": "stream",
     "text": [
      "Equation 13: Cost Objective\n",
      "Emissions =  2030.329121845404\n",
      "Open Distribution Centres:  4.0\n",
      "Open Branches:  0.0\n",
      "No. of vehicles used:  50.0\n"
     ]
    }
   ],
   "source": [
    "print(\"Equation 13: Cost Objective\")\n",
    "#print(\"Cost = \", COST.x)\n",
    "print(\"Emissions = \", EMISSIONS.x)\n",
    "#print(\"Objective = \", mdl.getObjective().getValue())\n",
    "\n",
    "\n",
    "VariableCOST_when_objectiveCOST = COST.x\n",
    "VariableEMISSIONS_when_objectiveCOST = EMISSIONS.x\n",
    "\n",
    "\n",
    "Open_DistributionCentres=0\n",
    "for i in R:\n",
    "    Open_DistributionCentres += z[i].x\n",
    "print(\"Open Distribution Centres: \",Open_DistributionCentres)\n",
    "\n",
    "Open_Branches=0\n",
    "for i in B:\n",
    "    Open_Branches += z[i].x\n",
    "print(\"Open Branches: \",Open_Branches)\n",
    "\n",
    "Veh_usage=0\n",
    "for i,j in E:\n",
    "    Veh_usage += x[i,j].x\n",
    "print(\"No. of vehicles used: \",Veh_usage)"
   ]
  },
  {
   "cell_type": "markdown",
   "id": "7c7d17fc",
   "metadata": {},
   "source": [
    "# %-age increase in Emissions when minimizing Cost"
   ]
  },
  {
   "cell_type": "code",
   "execution_count": 32,
   "id": "3ea4870a",
   "metadata": {},
   "outputs": [
    {
     "name": "stdout",
     "output_type": "stream",
     "text": [
      "15.590847232976945  % \n",
      "Vehicles Available:  999\n"
     ]
    }
   ],
   "source": [
    "Percent_age = (VariableEMISSIONS_when_objectiveCOST - VariableEMISSIONS_when_objectiveEMISSIONS) / VariableEMISSIONS_when_objectiveEMISSIONS\n",
    "\n",
    "print(Percent_age*100,\" % \")\n",
    "\n",
    "print(\"Vehicles Available: \",len(E))"
   ]
  },
  {
   "cell_type": "code",
   "execution_count": null,
   "id": "98404880",
   "metadata": {},
   "outputs": [],
   "source": []
  },
  {
   "cell_type": "code",
   "execution_count": null,
   "id": "3e072058",
   "metadata": {},
   "outputs": [],
   "source": []
  }
 ],
 "metadata": {
  "kernelspec": {
   "display_name": "Python 3 (ipykernel)",
   "language": "python",
   "name": "python3"
  },
  "language_info": {
   "codemirror_mode": {
    "name": "ipython",
    "version": 3
   },
   "file_extension": ".py",
   "mimetype": "text/x-python",
   "name": "python",
   "nbconvert_exporter": "python",
   "pygments_lexer": "ipython3",
   "version": "3.9.13"
  }
 },
 "nbformat": 4,
 "nbformat_minor": 5
}
