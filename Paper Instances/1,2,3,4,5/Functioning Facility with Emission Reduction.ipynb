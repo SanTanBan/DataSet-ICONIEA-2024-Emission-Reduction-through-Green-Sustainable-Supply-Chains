{
 "cells": [
  {
   "cell_type": "code",
   "execution_count": 1,
   "id": "c19d1192",
   "metadata": {},
   "outputs": [
    {
     "data": {
      "application/javascript": [
       "IPython.notebook.set_autosave_interval(11000)"
      ]
     },
     "metadata": {},
     "output_type": "display_data"
    },
    {
     "name": "stdout",
     "output_type": "stream",
     "text": [
      "Autosaving every 11 seconds\n"
     ]
    }
   ],
   "source": [
    "%autosave 11"
   ]
  },
  {
   "cell_type": "code",
   "execution_count": 2,
   "id": "dfb06287",
   "metadata": {},
   "outputs": [
    {
     "name": "stdout",
     "output_type": "stream",
     "text": [
      "Products\n",
      "Suppliers\n",
      "Distribution Centres\n",
      "Branches\n",
      "Customers\n",
      "Vehicle\n",
      "Commodity Flow Restrictions\n"
     ]
    }
   ],
   "source": [
    "import pandas as pd\n",
    "\n",
    "Facility_Details=pd.read_excel(\"Facility Details.xlsx\",sheet_name=None,index_col=0)\n",
    "\n",
    "for i in Facility_Details:\n",
    "    print(i)"
   ]
  },
  {
   "cell_type": "code",
   "execution_count": 3,
   "id": "65116be4",
   "metadata": {},
   "outputs": [],
   "source": [
    "K = Facility_Details[\"Products\"].index.tolist()"
   ]
  },
  {
   "cell_type": "code",
   "execution_count": 4,
   "id": "350316a8",
   "metadata": {},
   "outputs": [],
   "source": [
    "S = Facility_Details[\"Suppliers\"].index.tolist()\n",
    "\n",
    "S_Latitude = Facility_Details[\"Suppliers\"][\"Latitude\"]\n",
    "S_Longitude = Facility_Details[\"Suppliers\"][\"Longitude\"]"
   ]
  },
  {
   "cell_type": "code",
   "execution_count": 5,
   "id": "792b710f",
   "metadata": {},
   "outputs": [],
   "source": [
    "R = Facility_Details[\"Distribution Centres\"].index.tolist()\n",
    "\n",
    "R_Latitude = Facility_Details[\"Distribution Centres\"][\"Latitude\"]\n",
    "R_Longitude = Facility_Details[\"Distribution Centres\"][\"Longitude\"]\n",
    "\n",
    "R_F = Facility_Details[\"Distribution Centres\"][\"Fixed Emissions due to Facility Maintenance\"]\n",
    "R_V = Facility_Details[\"Distribution Centres\"][\"Variable Emissions due to Daily Operations\"]\n",
    "\n",
    "R_G = Facility_Details[\"Distribution Centres\"][\"Fixed Costs due to Facility Maintenance\"]\n",
    "R_W = Facility_Details[\"Distribution Centres\"][\"Variable Costs due to Daily Operations\"]"
   ]
  },
  {
   "cell_type": "code",
   "execution_count": 6,
   "id": "2cb33df4",
   "metadata": {},
   "outputs": [],
   "source": [
    "B = Facility_Details[\"Branches\"].index.tolist()\n",
    "\n",
    "B_Latitude = Facility_Details[\"Branches\"][\"Latitude\"]\n",
    "B_Longitude = Facility_Details[\"Branches\"][\"Longitude\"]\n",
    "\n",
    "B_F = Facility_Details[\"Branches\"][\"Fixed Emissions due to Facility Maintenance\"]\n",
    "B_V = Facility_Details[\"Branches\"][\"Variable Emissions due to Daily Operations\"]\n",
    "\n",
    "B_G = Facility_Details[\"Branches\"][\"Fixed Costs due to Facility Maintenance\"]\n",
    "B_W = Facility_Details[\"Branches\"][\"Variable Costs due to Daily Operations\"]"
   ]
  },
  {
   "cell_type": "code",
   "execution_count": 7,
   "id": "050ae4e7",
   "metadata": {},
   "outputs": [],
   "source": [
    "V_Emission = pd.concat([B_V, R_V], ignore_index=False, sort=False)\n",
    "F_Emission = pd.concat([B_F, R_F], ignore_index=False, sort=False)\n",
    "\n",
    "W_Cost = pd.concat([B_W, R_W], ignore_index=False, sort=False)\n",
    "G_Cost = pd.concat([B_G, R_G], ignore_index=False, sort=False)"
   ]
  },
  {
   "cell_type": "code",
   "execution_count": 8,
   "id": "6becc891",
   "metadata": {},
   "outputs": [],
   "source": [
    "C = Facility_Details[\"Customers\"].index.tolist()\n",
    "\n",
    "C_Latitude = Facility_Details[\"Customers\"][\"Latitude\"]\n",
    "C_Longitude = Facility_Details[\"Customers\"][\"Longitude\"]"
   ]
  },
  {
   "cell_type": "code",
   "execution_count": 9,
   "id": "8cc08e9a",
   "metadata": {},
   "outputs": [],
   "source": [
    "All_Longitudes = {**S_Longitude,**R_Longitude,**B_Longitude,**C_Longitude}\n",
    "All_Latitudes = {**S_Latitude,**R_Latitude,**B_Latitude,**C_Latitude}\n",
    "\n",
    "T={}\n",
    "\n",
    "for source in All_Longitudes:\n",
    "    for sink in All_Latitudes:\n",
    "        lat_diff = abs(All_Latitudes[source]-All_Latitudes[sink])\n",
    "        lon_diff = abs(All_Longitudes[source]-All_Longitudes[sink])\n",
    "        p=2\n",
    "        T[source,sink] = ( (lat_diff**p + lon_diff**p)**(1/p) )/1000 #Scaling down distance from meter to kilometers\n",
    "        \n",
    "#print(T)\n",
    "#T[\"C1\",\"C5\"]"
   ]
  },
  {
   "cell_type": "code",
   "execution_count": 10,
   "id": "09497397",
   "metadata": {},
   "outputs": [],
   "source": [
    "E = []\n",
    "\n",
    "for i in S:\n",
    "    for j in R+B:\n",
    "        E.append((i,j))\n",
    "        \n",
    "for i in R:\n",
    "    for j in B:\n",
    "        E.append((i,j))\n",
    "        \n",
    "for i in R+B:\n",
    "    for j in C:\n",
    "        E.append((i,j))"
   ]
  },
  {
   "cell_type": "code",
   "execution_count": 11,
   "id": "a7153ad3",
   "metadata": {},
   "outputs": [],
   "source": [
    "V = Facility_Details[\"Vehicle\"].index.tolist()\n",
    "\n",
    "Q = Facility_Details[\"Vehicle\"][\"Capacity (Q)\"][V[0]]\n",
    "\n",
    "F_0 = Facility_Details[\"Vehicle\"][\"Fixed Emission (F_0)\"][V[0]]\n",
    "V_0 = Facility_Details[\"Vehicle\"][\"Variable Emission (V_0)\"][V[0]]\n",
    "\n",
    "G_0 = Facility_Details[\"Vehicle\"][\"Fixed Cost (G_0)\"][V[0]]\n",
    "W_0 = Facility_Details[\"Vehicle\"][\"Variable Cost (W_0)\"][V[0]]"
   ]
  },
  {
   "cell_type": "code",
   "execution_count": 12,
   "id": "71d7d790",
   "metadata": {},
   "outputs": [],
   "source": [
    "U_H_D = Facility_Details[\"Commodity Flow Restrictions\"]"
   ]
  },
  {
   "cell_type": "code",
   "execution_count": 13,
   "id": "77ec9c19",
   "metadata": {},
   "outputs": [],
   "source": [
    "M = 1E7"
   ]
  },
  {
   "cell_type": "markdown",
   "id": "b4e1ec4c",
   "metadata": {},
   "source": [
    "# Data Reading and Set Creation is Complete"
   ]
  },
  {
   "cell_type": "code",
   "execution_count": 14,
   "id": "352b836a",
   "metadata": {},
   "outputs": [
    {
     "name": "stdout",
     "output_type": "stream",
     "text": [
      "Set parameter Username\n",
      "Academic license - for non-commercial use only - expires 2024-12-10\n"
     ]
    }
   ],
   "source": [
    "#pip install gurobipy\n",
    "from gurobipy import *\n",
    "\n",
    "# Set the problem\n",
    "mdl=Model(\"Functioning Facility with Emission Reduction\")"
   ]
  },
  {
   "cell_type": "markdown",
   "id": "8827c33a",
   "metadata": {},
   "source": [
    "# Variables"
   ]
  },
  {
   "cell_type": "code",
   "execution_count": 15,
   "id": "e7a100c4",
   "metadata": {},
   "outputs": [],
   "source": [
    "x = {}\n",
    "y = {}\n",
    "z = {}"
   ]
  },
  {
   "cell_type": "code",
   "execution_count": 16,
   "id": "dbc4b04f",
   "metadata": {},
   "outputs": [],
   "source": [
    "for i,j in E:\n",
    "    \n",
    "    x[i,j] = mdl.addVar(vtype=GRB.BINARY, name=\"x%s,%s\" % (i,j)) # Equation 10\n",
    "    \n",
    "    for k in K:\n",
    "        y[i,j,k] = mdl.addVar(name=\"y%s,%s,%s\" % (i,j,k)) # Equation 11\n",
    "            \n",
    "for i in R+B:\n",
    "    z[i] = mdl.addVar(vtype=GRB.BINARY, name=\"z%s\" % (i)) # Equation 12"
   ]
  },
  {
   "cell_type": "code",
   "execution_count": 17,
   "id": "4f5a3623",
   "metadata": {},
   "outputs": [],
   "source": [
    "COST = mdl.addVar(name=\"COST\")\n",
    "EMISSIONS = mdl.addVar(name=\"EMISSIONS\")"
   ]
  },
  {
   "cell_type": "markdown",
   "id": "724da4f0",
   "metadata": {},
   "source": [
    "# Constraints"
   ]
  },
  {
   "cell_type": "code",
   "execution_count": 18,
   "id": "386c3894",
   "metadata": {},
   "outputs": [
    {
     "data": {
      "text/plain": [
       "<gurobi.Constr *Awaiting Model Update*>"
      ]
     },
     "execution_count": 18,
     "metadata": {},
     "output_type": "execute_result"
    }
   ],
   "source": [
    "mdl.addConstr( quicksum( T[i,j]*( 2*x[i,j]*G_0 + W_0*quicksum(y[i,j,k] for k in K) ) for i,j in E )\n",
    "              + quicksum( z[i]*G_Cost[i] for i in R+B )\n",
    "              + quicksum( W_Cost[i]*( quicksum(y[j,i,k] for k in K for j in S) ) for i in R )\n",
    "              + quicksum( W_Cost[i]*( quicksum(y[i,j,k] for k in K for j in C) ) for i in B )\n",
    "              == COST)"
   ]
  },
  {
   "cell_type": "code",
   "execution_count": 19,
   "id": "0d6289a1",
   "metadata": {},
   "outputs": [
    {
     "data": {
      "text/plain": [
       "<gurobi.Constr *Awaiting Model Update*>"
      ]
     },
     "execution_count": 19,
     "metadata": {},
     "output_type": "execute_result"
    }
   ],
   "source": [
    "mdl.addConstr( quicksum( T[i,j]*( 2*x[i,j]*F_0 + V_0*quicksum(y[i,j,k] for k in K) ) for i,j in E )\n",
    "              + quicksum( z[i]*F_Emission[i] for i in R+B )\n",
    "              + quicksum( V_Emission[i]*( quicksum(y[j,i,k] for k in K for j in S) ) for i in R )\n",
    "              + quicksum( V_Emission[i]*( quicksum(y[i,j,k] for k in K for j in C) ) for i in B )\n",
    "              == EMISSIONS)"
   ]
  },
  {
   "cell_type": "code",
   "execution_count": 20,
   "id": "b1da1c39",
   "metadata": {},
   "outputs": [],
   "source": [
    "# Equation 2\n",
    "for k in K:\n",
    "    for i in S:\n",
    "        mdl.addConstr( quicksum( y[i,j,k] for j in R+B ) <= U_H_D[k][i] )"
   ]
  },
  {
   "cell_type": "code",
   "execution_count": 21,
   "id": "3dafb82f",
   "metadata": {},
   "outputs": [],
   "source": [
    "# Equation 3\n",
    "for k in K:\n",
    "    for i in R:\n",
    "        mdl.addConstr( quicksum( y[i,j,k] for j in C+B ) <= quicksum( y[j,i,k] for j in S ) )"
   ]
  },
  {
   "cell_type": "code",
   "execution_count": 22,
   "id": "653443e4",
   "metadata": {},
   "outputs": [],
   "source": [
    "# Equation 4\n",
    "for k in K:\n",
    "    for i in B:\n",
    "        mdl.addConstr( quicksum( y[i,j,k] for j in C ) + quicksum( y[j,i,k] for j in S )<= quicksum( y[j,i,k] for j in R ) )"
   ]
  },
  {
   "cell_type": "code",
   "execution_count": 23,
   "id": "9bcd2e39",
   "metadata": {},
   "outputs": [],
   "source": [
    "# Equation 5\n",
    "for k in K:\n",
    "    for j in R:\n",
    "        mdl.addConstr( quicksum( y[i,j,k] for i in S ) <= U_H_D[k][j] )"
   ]
  },
  {
   "cell_type": "code",
   "execution_count": 24,
   "id": "df9d2cbf",
   "metadata": {},
   "outputs": [],
   "source": [
    "# Equation 6\n",
    "for k in K:\n",
    "    for j in B:\n",
    "        mdl.addConstr( quicksum( y[i,j,k] for i in S+R ) <= U_H_D[k][j] )"
   ]
  },
  {
   "cell_type": "code",
   "execution_count": 25,
   "id": "9baafa84",
   "metadata": {},
   "outputs": [],
   "source": [
    "# Equation 7\n",
    "for k in K:\n",
    "    for j in C:\n",
    "        mdl.addConstr( quicksum( y[i,j,k] for i in R+B ) == U_H_D[k][j] )"
   ]
  },
  {
   "cell_type": "code",
   "execution_count": 26,
   "id": "b2161114",
   "metadata": {},
   "outputs": [],
   "source": [
    "# Equation 8\n",
    "for i,j in E:\n",
    "    mdl.addConstr( quicksum( y[i,j,k] for k in K ) <= Q*x[i,j] )"
   ]
  },
  {
   "cell_type": "code",
   "execution_count": 27,
   "id": "5fcd1cf9",
   "metadata": {},
   "outputs": [],
   "source": [
    "# Equation 9\n",
    "for i in R+B:\n",
    "    mdl.addConstr( quicksum(x[j,i] for j in S)\n",
    "                  +quicksum(x[j,i] for j in R if (not(i in R)))\n",
    "                  +quicksum(x[i,j] for j in B if (not(i in B)))\n",
    "                  +quicksum(x[i,j] for j in C)\n",
    "                  <= M*z[i] )"
   ]
  },
  {
   "cell_type": "markdown",
   "id": "313b20b7",
   "metadata": {},
   "source": [
    "# EMISSION Objective Function"
   ]
  },
  {
   "cell_type": "code",
   "execution_count": 28,
   "id": "03ebd511",
   "metadata": {},
   "outputs": [
    {
     "name": "stdout",
     "output_type": "stream",
     "text": [
      "<gurobi.Model MIP instance Functioning Facility with Emission Reduction: 2146 constrs, 7138 vars, Parameter changes: Username=(user-defined)>\n",
      "Gurobi Optimizer version 10.0.3 build v10.0.3rc0 (win64)\n",
      "\n",
      "CPU model: Intel(R) Core(TM) i3-10110U CPU @ 2.10GHz, instruction set [SSE2|AVX|AVX2]\n",
      "Thread count: 2 physical cores, 4 logical processors, using up to 4 threads\n",
      "\n",
      "Optimize a model with 2146 rows, 7138 columns and 35570 nonzeros\n",
      "Model fingerprint: 0xd34698a3\n",
      "Variable types: 5330 continuous, 1808 integer (1808 binary)\n",
      "Coefficient statistics:\n",
      "  Matrix range     [2e-03, 1e+07]\n",
      "  Objective range  [1e+00, 1e+00]\n",
      "  Bounds range     [1e+00, 1e+00]\n",
      "  RHS range        [1e+00, 1e+03]\n",
      "Presolve removed 255 rows and 2795 columns\n",
      "Presolve time: 0.04s\n",
      "Presolved: 1891 rows, 4343 columns, 12236 nonzeros\n",
      "Variable types: 2703 continuous, 1640 integer (1640 binary)\n",
      "Found heuristic solution: objective 1360.0718171\n",
      "\n",
      "Root relaxation: objective 1.179658e+03, 611 iterations, 0.02 seconds (0.01 work units)\n",
      "\n",
      "    Nodes    |    Current Node    |     Objective Bounds      |     Work\n",
      " Expl Unexpl |  Obj  Depth IntInf | Incumbent    BestBd   Gap | It/Node Time\n",
      "\n",
      "     0     0 1179.65768    0   43 1360.07182 1179.65768  13.3%     -    0s\n",
      "H    0     0                    1339.5258878 1179.65768  11.9%     -    0s\n",
      "H    0     0                    1333.4577266 1179.65768  11.5%     -    0s\n",
      "H    0     0                    1270.8164132 1179.65768  7.17%     -    0s\n",
      "     0     0 1228.83561    0   37 1270.81641 1228.83561  3.30%     -    0s\n",
      "H    0     0                    1268.8990319 1228.83561  3.16%     -    0s\n",
      "     0     0 1250.76651    0   26 1268.89903 1250.76651  1.43%     -    0s\n",
      "     0     0 1251.32361    0   21 1268.89903 1251.32361  1.39%     -    0s\n",
      "     0     0 1251.70716    0   20 1268.89903 1251.70716  1.35%     -    0s\n",
      "     0     0 1251.84682    0   21 1268.89903 1251.84682  1.34%     -    0s\n",
      "     0     0 1259.82908    0   22 1268.89903 1259.82908  0.71%     -    0s\n",
      "     0     0 1259.82908    0   11 1268.89903 1259.82908  0.71%     -    0s\n",
      "     0     0 1261.78175    0   12 1268.89903 1261.78175  0.56%     -    0s\n",
      "     0     0 1262.17386    0   11 1268.89903 1262.17386  0.53%     -    0s\n",
      "     0     0 1263.92702    0    9 1268.89903 1263.92702  0.39%     -    0s\n",
      "     0     0 1265.15353    0   13 1268.89903 1265.15353  0.30%     -    0s\n",
      "     0     0 1265.15353    0   11 1268.89903 1265.15353  0.30%     -    0s\n",
      "     0     0 1265.33402    0   15 1268.89903 1265.33402  0.28%     -    0s\n",
      "     0     0 1265.76708    0   10 1268.89903 1265.76708  0.25%     -    0s\n",
      "     0     0 1267.38570    0   11 1268.89903 1267.38570  0.12%     -    0s\n",
      "     0     0 1267.44626    0    9 1268.89903 1267.44626  0.11%     -    0s\n",
      "     0     0 1268.64520    0    4 1268.89903 1268.64520  0.02%     -    0s\n",
      "     0     0 1268.64520    0    4 1268.89903 1268.64520  0.02%     -    0s\n",
      "     0     0 1268.64520    0    5 1268.89903 1268.64520  0.02%     -    0s\n",
      "     0     0 1268.78499    0    2 1268.89903 1268.78499  0.01%     -    0s\n",
      "\n",
      "Cutting planes:\n",
      "  Gomory: 2\n",
      "  Implied bound: 1\n",
      "  Clique: 1\n",
      "  MIR: 3\n",
      "  Flow cover: 2\n",
      "  Relax-and-lift: 1\n",
      "\n",
      "Explored 1 nodes (2284 simplex iterations) in 0.53 seconds (0.23 work units)\n",
      "Thread count was 4 (of 4 available processors)\n",
      "\n",
      "Solution count 5: 1268.9 1270.82 1333.46 ... 1360.07\n",
      "\n",
      "Optimal solution found (tolerance 1.00e-04)\n",
      "Best objective 1.268899031915e+03, best bound 1.268784987318e+03, gap 0.0090%\n"
     ]
    }
   ],
   "source": [
    "# Equation 1\n",
    "mdl.setObjective( EMISSIONS ,GRB.MINIMIZE)\n",
    "\n",
    "mdl.update()\n",
    "print(mdl)\n",
    "\n",
    "mdl.optimize()\n",
    "\n",
    "import winsound\n",
    "winsound.Beep(555, 888) # where 555 is the frequency in Hertz and 888 is the duration in miliseconds"
   ]
  },
  {
   "cell_type": "code",
   "execution_count": 29,
   "id": "0adca6d1",
   "metadata": {},
   "outputs": [
    {
     "name": "stdout",
     "output_type": "stream",
     "text": [
      "Equation 1: Emission Objective\n",
      "Emissions =  1268.899031914833\n",
      "Open Distribution Centres:  4.0\n",
      "Open Branches:  1.0\n",
      "No. of vehicles used:  58.0\n"
     ]
    }
   ],
   "source": [
    "print(\"Equation 1: Emission Objective\")\n",
    "#print(\"Cost = \", COST.x)\n",
    "print(\"Emissions = \", EMISSIONS.x)\n",
    "#print(\"Objective = \", mdl.getObjective().getValue())\n",
    "\n",
    "\n",
    "VariableCOST_when_objectiveEMISSIONS = COST.x\n",
    "VariableEMISSIONS_when_objectiveEMISSIONS = EMISSIONS.x\n",
    "\n",
    "\n",
    "Open_DistributionCentres=0\n",
    "for i in R:\n",
    "    Open_DistributionCentres += z[i].x\n",
    "print(\"Open Distribution Centres: \",Open_DistributionCentres)\n",
    "\n",
    "Open_Branches=0\n",
    "for i in B:\n",
    "    Open_Branches += z[i].x\n",
    "print(\"Open Branches: \",Open_Branches)\n",
    "\n",
    "Veh_usage=0\n",
    "for i,j in E:\n",
    "    Veh_usage += x[i,j].x\n",
    "print(\"No. of vehicles used: \",Veh_usage)"
   ]
  },
  {
   "cell_type": "markdown",
   "id": "b30bc4c4",
   "metadata": {},
   "source": [
    "# COST Objective Function"
   ]
  },
  {
   "cell_type": "code",
   "execution_count": 30,
   "id": "6509f785",
   "metadata": {},
   "outputs": [
    {
     "name": "stdout",
     "output_type": "stream",
     "text": [
      "<gurobi.Model MIP instance Functioning Facility with Emission Reduction: 2146 constrs, 7138 vars, Parameter changes: Username=(user-defined)>\n",
      "Gurobi Optimizer version 10.0.3 build v10.0.3rc0 (win64)\n",
      "\n",
      "CPU model: Intel(R) Core(TM) i3-10110U CPU @ 2.10GHz, instruction set [SSE2|AVX|AVX2]\n",
      "Thread count: 2 physical cores, 4 logical processors, using up to 4 threads\n",
      "\n",
      "Optimize a model with 2146 rows, 7138 columns and 35570 nonzeros\n",
      "Model fingerprint: 0x4b8df723\n",
      "Variable types: 5330 continuous, 1808 integer (1808 binary)\n",
      "Coefficient statistics:\n",
      "  Matrix range     [2e-03, 1e+07]\n",
      "  Objective range  [1e+00, 1e+00]\n",
      "  Bounds range     [1e+00, 1e+00]\n",
      "  RHS range        [1e+00, 1e+03]\n",
      "\n",
      "MIP start from previous solve produced solution with objective 2223.65 (0.02s)\n",
      "Loaded MIP start from previous solve with objective 2223.65\n",
      "\n",
      "Presolve removed 255 rows and 2795 columns\n",
      "Presolve time: 0.04s\n",
      "Presolved: 1891 rows, 4343 columns, 12236 nonzeros\n",
      "Variable types: 2703 continuous, 1640 integer (1640 binary)\n",
      "Found heuristic solution: objective 2217.6666231\n",
      "\n",
      "Root relaxation: objective 1.555609e+03, 1011 iterations, 0.02 seconds (0.01 work units)\n",
      "\n",
      "    Nodes    |    Current Node    |     Objective Bounds      |     Work\n",
      " Expl Unexpl |  Obj  Depth IntInf | Incumbent    BestBd   Gap | It/Node Time\n",
      "\n",
      "     0     0 1555.60858    0   51 2217.66662 1555.60858  29.9%     -    0s\n",
      "H    0     0                    1825.1407314 1555.60858  14.8%     -    0s\n",
      "H    0     0                    1800.4064755 1555.60858  13.6%     -    0s\n",
      "H    0     0                    1717.8719962 1555.60858  9.45%     -    0s\n",
      "     0     0 1618.99981    0   43 1717.87200 1618.99981  5.76%     -    0s\n",
      "H    0     0                    1669.5098784 1618.99981  3.03%     -    0s\n",
      "     0     0 1619.20174    0   41 1669.50988 1619.20174  3.01%     -    0s\n",
      "     0     0 1619.26621    0   41 1669.50988 1619.26621  3.01%     -    0s\n",
      "     0     0 1637.68015    0   42 1669.50988 1637.68015  1.91%     -    0s\n",
      "     0     0 1639.64468    0   65 1669.50988 1639.64468  1.79%     -    0s\n",
      "     0     0 1639.75222    0   62 1669.50988 1639.75222  1.78%     -    0s\n",
      "     0     0 1639.78238    0   46 1669.50988 1639.78238  1.78%     -    0s\n",
      "     0     0 1650.84685    0   80 1669.50988 1650.84685  1.12%     -    0s\n",
      "     0     0 1651.59729    0   71 1669.50988 1651.59729  1.07%     -    0s\n",
      "     0     0 1652.71737    0   43 1669.50988 1652.71737  1.01%     -    0s\n",
      "     0     0 1652.79527    0   46 1669.50988 1652.79527  1.00%     -    0s\n",
      "     0     0 1652.85227    0   46 1669.50988 1652.85227  1.00%     -    0s\n",
      "     0     0 1654.78614    0   29 1669.50988 1654.78614  0.88%     -    0s\n",
      "     0     0 1654.87505    0   36 1669.50988 1654.87505  0.88%     -    0s\n",
      "     0     0 1656.07536    0   43 1669.50988 1656.07536  0.80%     -    0s\n",
      "     0     0 1656.11293    0   43 1669.50988 1656.11293  0.80%     -    0s\n",
      "     0     0 1656.16144    0   41 1669.50988 1656.16144  0.80%     -    0s\n",
      "     0     0 1657.51875    0   38 1669.50988 1657.51875  0.72%     -    0s\n",
      "     0     0 1657.51875    0   22 1669.50988 1657.51875  0.72%     -    0s\n",
      "     0     0 1660.26535    0   14 1669.50988 1660.26535  0.55%     -    0s\n",
      "     0     0 1661.00682    0   24 1669.50988 1661.00682  0.51%     -    0s\n",
      "     0     0 1661.01071    0   16 1669.50988 1661.01071  0.51%     -    0s\n",
      "     0     0 1661.72383    0   24 1669.50988 1661.72383  0.47%     -    0s\n",
      "     0     0 1661.72383    0   22 1669.50988 1661.72383  0.47%     -    0s\n",
      "     0     0 1662.31706    0   18 1669.50988 1662.31706  0.43%     -    0s\n",
      "     0     0 1662.58261    0   30 1669.50988 1662.58261  0.41%     -    0s\n",
      "     0     0 1662.61310    0   25 1669.50988 1662.61310  0.41%     -    0s\n",
      "     0     0 1662.82063    0   31 1669.50988 1662.82063  0.40%     -    0s\n",
      "     0     0 1662.82063    0   22 1669.50988 1662.82063  0.40%     -    0s\n",
      "     0     0 1662.82063    0   23 1669.50988 1662.82063  0.40%     -    0s\n",
      "     0     0 1662.89914    0   21 1669.50988 1662.89914  0.40%     -    0s\n",
      "     0     0 1663.01873    0   28 1669.50988 1663.01873  0.39%     -    0s\n",
      "     0     0 1663.03496    0   28 1669.50988 1663.03496  0.39%     -    0s\n",
      "     0     0 1663.37369    0   28 1669.50988 1663.37369  0.37%     -    0s\n",
      "     0     0 1663.45701    0   30 1669.50988 1663.45701  0.36%     -    0s\n",
      "     0     0 1664.08682    0   27 1669.50988 1664.08682  0.32%     -    1s\n",
      "     0     0 1664.14791    0   28 1669.50988 1664.14791  0.32%     -    1s\n",
      "     0     0 1664.59382    0   48 1669.50988 1664.59382  0.29%     -    1s\n",
      "     0     0 1664.59382    0   21 1669.50988 1664.59382  0.29%     -    1s\n",
      "     0     0 1664.59382    0   31 1669.50988 1664.59382  0.29%     -    1s\n",
      "     0     0 1664.59382    0   27 1669.50988 1664.59382  0.29%     -    1s\n",
      "     0     0 1664.67604    0   46 1669.50988 1664.67604  0.29%     -    1s\n",
      "     0     0 1664.72485    0   47 1669.50988 1664.72485  0.29%     -    1s\n",
      "     0     0 1664.88554    0   49 1669.50988 1664.88554  0.28%     -    1s\n",
      "     0     0 1664.88635    0   49 1669.50988 1664.88635  0.28%     -    1s\n",
      "     0     0 1665.19024    0   51 1669.50988 1665.19024  0.26%     -    1s\n",
      "     0     0 1665.26079    0   47 1669.50988 1665.26079  0.25%     -    1s\n",
      "     0     0 1665.29722    0   29 1669.50988 1665.29722  0.25%     -    1s\n",
      "     0     0 1665.31039    0   50 1669.50988 1665.31039  0.25%     -    1s\n",
      "     0     0 1665.31168    0   49 1669.50988 1665.31168  0.25%     -    1s\n",
      "     0     0 1665.50968    0   33 1669.50988 1665.50968  0.24%     -    1s\n",
      "     0     0 1665.52733    0   32 1669.50988 1665.52733  0.24%     -    1s\n",
      "     0     0 1665.53174    0   34 1669.50988 1665.53174  0.24%     -    1s\n",
      "     0     0 1665.53216    0   34 1669.50988 1665.53216  0.24%     -    1s\n",
      "     0     0 1665.54533    0   36 1669.50988 1665.54533  0.24%     -    1s\n",
      "     0     0 1665.54539    0   38 1669.50988 1665.54539  0.24%     -    1s\n",
      "     0     0 1665.59075    0   34 1669.50988 1665.59075  0.23%     -    1s\n",
      "     0     0 1665.61091    0   34 1669.50988 1665.61091  0.23%     -    1s\n",
      "     0     0 1665.61091    0   34 1669.50988 1665.61091  0.23%     -    1s\n",
      "     0     0 1665.67387    0   35 1669.50988 1665.67387  0.23%     -    1s\n",
      "     0     0 1665.67426    0   35 1669.50988 1665.67426  0.23%     -    1s\n",
      "     0     0 1665.68019    0   41 1669.50988 1665.68019  0.23%     -    1s\n",
      "     0     0 1665.68187    0   43 1669.50988 1665.68187  0.23%     -    1s\n",
      "     0     0 1665.72952    0   41 1669.50988 1665.72952  0.23%     -    1s\n",
      "     0     0 1665.74940    0   41 1669.50988 1665.74940  0.23%     -    1s\n",
      "     0     0 1665.75385    0   39 1669.50988 1665.75385  0.22%     -    1s\n",
      "     0     0 1665.80090    0   38 1669.50988 1665.80090  0.22%     -    1s\n",
      "     0     0 1665.80090    0   21 1669.50988 1665.80090  0.22%     -    1s\n",
      "     0     0 1665.80090    0   34 1669.50988 1665.80090  0.22%     -    1s\n",
      "     0     0 1665.80090    0   25 1669.50988 1665.80090  0.22%     -    1s\n",
      "     0     0 1665.80090    0   30 1669.50988 1665.80090  0.22%     -    1s\n",
      "     0     0 1665.80090    0   28 1669.50988 1665.80090  0.22%     -    1s\n",
      "     0     0 1665.80226    0   38 1669.50988 1665.80226  0.22%     -    1s\n",
      "     0     0 1665.80270    0   39 1669.50988 1665.80270  0.22%     -    1s\n",
      "     0     0 1665.81155    0   37 1669.50988 1665.81155  0.22%     -    1s\n",
      "     0     0 1665.83219    0   44 1669.50988 1665.83219  0.22%     -    1s\n",
      "     0     0 1665.84434    0   39 1669.50988 1665.84434  0.22%     -    1s\n",
      "     0     0 1665.84434    0   39 1669.50988 1665.84434  0.22%     -    1s\n",
      "H    0     0                    1669.0048084 1665.84434  0.19%     -    1s\n",
      "     0     0 1665.84434    0   18 1669.00481 1665.84434  0.19%     -    1s\n",
      "     0     0 1665.84434    0   34 1669.00481 1665.84434  0.19%     -    1s\n",
      "     0     0 1665.84434    0   32 1669.00481 1665.84434  0.19%     -    1s\n",
      "     0     0 1665.84434    0   26 1669.00481 1665.84434  0.19%     -    1s\n",
      "     0     0 1665.84434    0   31 1669.00481 1665.84434  0.19%     -    1s\n",
      "     0     0 1665.84434    0   33 1669.00481 1665.84434  0.19%     -    1s\n",
      "     0     0 1665.84740    0   48 1669.00481 1665.84740  0.19%     -    1s\n",
      "     0     0 1665.89929    0   35 1669.00481 1665.89929  0.19%     -    1s\n",
      "     0     0 1665.91931    0   51 1669.00481 1665.91931  0.18%     -    1s\n"
     ]
    },
    {
     "name": "stdout",
     "output_type": "stream",
     "text": [
      "     0     0 1665.93175    0   40 1669.00481 1665.93175  0.18%     -    1s\n",
      "     0     0 1665.93254    0   38 1669.00481 1665.93254  0.18%     -    1s\n",
      "     0     0 1665.95173    0   44 1669.00481 1665.95173  0.18%     -    1s\n",
      "     0     0 1665.95173    0   44 1669.00481 1665.95173  0.18%     -    1s\n",
      "     0     2 1665.95173    0   44 1669.00481 1665.95173  0.18%     -    1s\n",
      "*   28    10              14    1668.9132025 1666.39272  0.15%  12.5    1s\n",
      "*   48    14              13    1668.5024727 1666.67632  0.11%  11.0    1s\n",
      "\n",
      "Cutting planes:\n",
      "  Lift-and-project: 1\n",
      "  Cover: 2\n",
      "  Implied bound: 6\n",
      "  MIR: 19\n",
      "  Flow cover: 8\n",
      "  Network: 2\n",
      "  RLT: 2\n",
      "  Relax-and-lift: 1\n",
      "\n",
      "Explored 79 nodes (8251 simplex iterations) in 1.60 seconds (0.79 work units)\n",
      "Thread count was 4 (of 4 available processors)\n",
      "\n",
      "Solution count 9: 1668.5 1668.91 1669 ... 2223.65\n",
      "\n",
      "Optimal solution found (tolerance 1.00e-04)\n",
      "Best objective 1.668502472720e+03, best bound 1.668502472720e+03, gap 0.0000%\n"
     ]
    }
   ],
   "source": [
    "# Equation 13\n",
    "mdl.setObjective( COST ,GRB.MINIMIZE)\n",
    "\n",
    "mdl.update()\n",
    "print(mdl)\n",
    "\n",
    "mdl.optimize()\n",
    "\n",
    "import winsound\n",
    "winsound.Beep(555, 888) # where 555 is the frequency in Hertz and 888 is the duration in miliseconds"
   ]
  },
  {
   "cell_type": "code",
   "execution_count": 31,
   "id": "31a16294",
   "metadata": {},
   "outputs": [
    {
     "name": "stdout",
     "output_type": "stream",
     "text": [
      "Equation 13: Cost Objective\n",
      "Emissions =  2229.252980159551\n",
      "Open Distribution Centres:  5.0\n",
      "Open Branches:  0.0\n",
      "No. of vehicles used:  64.0\n"
     ]
    }
   ],
   "source": [
    "print(\"Equation 13: Cost Objective\")\n",
    "#print(\"Cost = \", COST.x)\n",
    "print(\"Emissions = \", EMISSIONS.x)\n",
    "#print(\"Objective = \", mdl.getObjective().getValue())\n",
    "\n",
    "\n",
    "VariableCOST_when_objectiveCOST = COST.x\n",
    "VariableEMISSIONS_when_objectiveCOST = EMISSIONS.x\n",
    "\n",
    "\n",
    "Open_DistributionCentres=0\n",
    "for i in R:\n",
    "    Open_DistributionCentres += z[i].x\n",
    "print(\"Open Distribution Centres: \",Open_DistributionCentres)\n",
    "\n",
    "Open_Branches=0\n",
    "for i in B:\n",
    "    Open_Branches += z[i].x\n",
    "print(\"Open Branches: \",Open_Branches)\n",
    "\n",
    "Veh_usage=0\n",
    "for i,j in E:\n",
    "    Veh_usage += x[i,j].x\n",
    "print(\"No. of vehicles used: \",Veh_usage)"
   ]
  },
  {
   "cell_type": "markdown",
   "id": "7c7d17fc",
   "metadata": {},
   "source": [
    "# %-age increase in Emissions when minimizing Cost"
   ]
  },
  {
   "cell_type": "code",
   "execution_count": 32,
   "id": "3ea4870a",
   "metadata": {},
   "outputs": [
    {
     "name": "stdout",
     "output_type": "stream",
     "text": [
      "75.68403191193987  % \n",
      "Vehicles Available:  1776\n"
     ]
    }
   ],
   "source": [
    "Percent_age = (VariableEMISSIONS_when_objectiveCOST - VariableEMISSIONS_when_objectiveEMISSIONS) / VariableEMISSIONS_when_objectiveEMISSIONS\n",
    "\n",
    "print(Percent_age*100,\" % \")\n",
    "\n",
    "print(\"Vehicles Available: \",len(E))"
   ]
  },
  {
   "cell_type": "code",
   "execution_count": null,
   "id": "98404880",
   "metadata": {},
   "outputs": [],
   "source": []
  },
  {
   "cell_type": "code",
   "execution_count": null,
   "id": "3e072058",
   "metadata": {},
   "outputs": [],
   "source": []
  }
 ],
 "metadata": {
  "kernelspec": {
   "display_name": "Python 3 (ipykernel)",
   "language": "python",
   "name": "python3"
  },
  "language_info": {
   "codemirror_mode": {
    "name": "ipython",
    "version": 3
   },
   "file_extension": ".py",
   "mimetype": "text/x-python",
   "name": "python",
   "nbconvert_exporter": "python",
   "pygments_lexer": "ipython3",
   "version": "3.9.13"
  }
 },
 "nbformat": 4,
 "nbformat_minor": 5
}
